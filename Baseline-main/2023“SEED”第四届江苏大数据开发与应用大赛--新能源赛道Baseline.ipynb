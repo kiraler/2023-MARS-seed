{
 "cells": [
  {
   "cell_type": "code",
   "execution_count": 8,
   "id": "c1040f75-626a-47f9-a0b7-0eb9ec2b9dd6",
   "metadata": {
    "ExecuteTime": {
     "end_time": "2023-10-23T05:50:56.000846900Z",
     "start_time": "2023-10-23T05:50:55.813451500Z"
    }
   },
   "outputs": [],
   "source": [
    "import pandas as pd\n",
    "import numpy as np\n",
    "import matplotlib.pyplot as plt\n",
    "import seaborn as sns\n",
    "\n",
    "import xgboost as xgb\n",
    "from sklearn.model_selection import KFold,GroupKFold\n",
    "from sklearn.metrics import mean_absolute_error\n",
    "from sklearn.metrics import mean_squared_error\n",
    "color_pal = sns.color_palette()"
   ]
  },
  {
   "cell_type": "code",
   "execution_count": 9,
   "id": "a5be4c0a-46b0-4cd9-9097-2b7e21d102f2",
   "metadata": {
    "tags": []
   },
   "outputs": [],
   "source": [
    "#!pip install scikit-learn --user\n",
    "#!pip install seaborn --user\n",
    "#!pip install xgboost --user"
   ]
  },
  {
   "cell_type": "markdown",
   "id": "a48f84be-bf1a-4305-867f-a13c5cb8502d",
   "metadata": {
    "tags": []
   },
   "source": [
    "### 导入数据"
   ]
  },
  {
   "cell_type": "code",
   "execution_count": 45,
   "id": "27a0fe98-bd97-4f01-bbec-0400c484f77c",
   "metadata": {},
   "outputs": [],
   "source": [
    "power_history_train = pd.read_csv('../初赛1008/训练集/power_forecast_history.csv')"
   ]
  },
  {
   "cell_type": "code",
   "execution_count": 46,
   "id": "e7087271-e07a-461d-892e-e63fec0acccd",
   "metadata": {},
   "outputs": [],
   "source": [
    "power_history_train['tag']='train'"
   ]
  },
  {
   "cell_type": "code",
   "execution_count": 47,
   "id": "3640c1e9-0bc1-4d25-824f-01404706753e",
   "metadata": {},
   "outputs": [],
   "source": [
    "power_history_test = pd.read_csv('../初赛1008/测试集/power_forecast_history.csv')"
   ]
  },
  {
   "cell_type": "code",
   "execution_count": 48,
   "id": "72ca8be4-e9d3-44ee-a7af-e355351ea772",
   "metadata": {},
   "outputs": [],
   "source": [
    "power_history_test['tag']='test'"
   ]
  },
  {
   "cell_type": "code",
   "execution_count": 49,
   "id": "d1311612-cf74-47c6-9070-a3728a6ef068",
   "metadata": {},
   "outputs": [],
   "source": [
    "power_history = pd.concat([power_history_train,power_history_test])"
   ]
  },
  {
   "cell_type": "code",
   "execution_count": 50,
   "id": "75c7f7f1-b23f-4e1c-8519-f5344aecfe54",
   "metadata": {},
   "outputs": [
    {
     "data": {
      "text/plain": "       id_encode  hour  ele_price  ser_price  after_ser_price  total_price  \\\n0              0   0.0       0.64       0.95             0.31         1.59   \n1              0   1.0       0.64       0.95             0.31         1.59   \n2              0   2.0       0.64       0.95             0.31         1.59   \n3              0   3.0       0.64       0.95             0.31         1.59   \n4              0   4.0       0.64       0.95             0.31         1.59   \n...          ...   ...        ...        ...              ...          ...   \n83995        499  19.0       0.00       0.51             0.51         0.51   \n83996        499  20.0       0.00       0.51             0.51         0.51   \n83997        499  21.0       0.00       0.51             0.51         0.51   \n83998        499  22.0       0.00       0.51             0.51         0.51   \n83999        499  23.0       0.00       0.51             0.51         0.51   \n\n        f1      f2   f3        ds    tag  \n0      0.0     0.0  1.0  20220415  train  \n1      0.0     0.0  1.0  20220415  train  \n2      0.0     0.0  1.0  20220415  train  \n3      0.0     0.0  1.0  20220415  train  \n4      0.0     0.0  1.0  20220415  train  \n...    ...     ...  ...       ...    ...  \n83995  3.0  1240.0  NaN  20230421   test  \n83996  3.0  1240.0  NaN  20230421   test  \n83997  3.0  1240.0  NaN  20230421   test  \n83998  3.0  1240.0  NaN  20230421   test  \n83999  3.0  1240.0  NaN  20230421   test  \n\n[3650384 rows x 11 columns]",
      "text/html": "<div>\n<style scoped>\n    .dataframe tbody tr th:only-of-type {\n        vertical-align: middle;\n    }\n\n    .dataframe tbody tr th {\n        vertical-align: top;\n    }\n\n    .dataframe thead th {\n        text-align: right;\n    }\n</style>\n<table border=\"1\" class=\"dataframe\">\n  <thead>\n    <tr style=\"text-align: right;\">\n      <th></th>\n      <th>id_encode</th>\n      <th>hour</th>\n      <th>ele_price</th>\n      <th>ser_price</th>\n      <th>after_ser_price</th>\n      <th>total_price</th>\n      <th>f1</th>\n      <th>f2</th>\n      <th>f3</th>\n      <th>ds</th>\n      <th>tag</th>\n    </tr>\n  </thead>\n  <tbody>\n    <tr>\n      <th>0</th>\n      <td>0</td>\n      <td>0.0</td>\n      <td>0.64</td>\n      <td>0.95</td>\n      <td>0.31</td>\n      <td>1.59</td>\n      <td>0.0</td>\n      <td>0.0</td>\n      <td>1.0</td>\n      <td>20220415</td>\n      <td>train</td>\n    </tr>\n    <tr>\n      <th>1</th>\n      <td>0</td>\n      <td>1.0</td>\n      <td>0.64</td>\n      <td>0.95</td>\n      <td>0.31</td>\n      <td>1.59</td>\n      <td>0.0</td>\n      <td>0.0</td>\n      <td>1.0</td>\n      <td>20220415</td>\n      <td>train</td>\n    </tr>\n    <tr>\n      <th>2</th>\n      <td>0</td>\n      <td>2.0</td>\n      <td>0.64</td>\n      <td>0.95</td>\n      <td>0.31</td>\n      <td>1.59</td>\n      <td>0.0</td>\n      <td>0.0</td>\n      <td>1.0</td>\n      <td>20220415</td>\n      <td>train</td>\n    </tr>\n    <tr>\n      <th>3</th>\n      <td>0</td>\n      <td>3.0</td>\n      <td>0.64</td>\n      <td>0.95</td>\n      <td>0.31</td>\n      <td>1.59</td>\n      <td>0.0</td>\n      <td>0.0</td>\n      <td>1.0</td>\n      <td>20220415</td>\n      <td>train</td>\n    </tr>\n    <tr>\n      <th>4</th>\n      <td>0</td>\n      <td>4.0</td>\n      <td>0.64</td>\n      <td>0.95</td>\n      <td>0.31</td>\n      <td>1.59</td>\n      <td>0.0</td>\n      <td>0.0</td>\n      <td>1.0</td>\n      <td>20220415</td>\n      <td>train</td>\n    </tr>\n    <tr>\n      <th>...</th>\n      <td>...</td>\n      <td>...</td>\n      <td>...</td>\n      <td>...</td>\n      <td>...</td>\n      <td>...</td>\n      <td>...</td>\n      <td>...</td>\n      <td>...</td>\n      <td>...</td>\n      <td>...</td>\n    </tr>\n    <tr>\n      <th>83995</th>\n      <td>499</td>\n      <td>19.0</td>\n      <td>0.00</td>\n      <td>0.51</td>\n      <td>0.51</td>\n      <td>0.51</td>\n      <td>3.0</td>\n      <td>1240.0</td>\n      <td>NaN</td>\n      <td>20230421</td>\n      <td>test</td>\n    </tr>\n    <tr>\n      <th>83996</th>\n      <td>499</td>\n      <td>20.0</td>\n      <td>0.00</td>\n      <td>0.51</td>\n      <td>0.51</td>\n      <td>0.51</td>\n      <td>3.0</td>\n      <td>1240.0</td>\n      <td>NaN</td>\n      <td>20230421</td>\n      <td>test</td>\n    </tr>\n    <tr>\n      <th>83997</th>\n      <td>499</td>\n      <td>21.0</td>\n      <td>0.00</td>\n      <td>0.51</td>\n      <td>0.51</td>\n      <td>0.51</td>\n      <td>3.0</td>\n      <td>1240.0</td>\n      <td>NaN</td>\n      <td>20230421</td>\n      <td>test</td>\n    </tr>\n    <tr>\n      <th>83998</th>\n      <td>499</td>\n      <td>22.0</td>\n      <td>0.00</td>\n      <td>0.51</td>\n      <td>0.51</td>\n      <td>0.51</td>\n      <td>3.0</td>\n      <td>1240.0</td>\n      <td>NaN</td>\n      <td>20230421</td>\n      <td>test</td>\n    </tr>\n    <tr>\n      <th>83999</th>\n      <td>499</td>\n      <td>23.0</td>\n      <td>0.00</td>\n      <td>0.51</td>\n      <td>0.51</td>\n      <td>0.51</td>\n      <td>3.0</td>\n      <td>1240.0</td>\n      <td>NaN</td>\n      <td>20230421</td>\n      <td>test</td>\n    </tr>\n  </tbody>\n</table>\n<p>3650384 rows × 11 columns</p>\n</div>"
     },
     "execution_count": 50,
     "metadata": {},
     "output_type": "execute_result"
    }
   ],
   "source": [
    "power_history"
   ]
  },
  {
   "cell_type": "code",
   "execution_count": 41,
   "id": "6a8e59b1-10be-4f7f-b069-fb8eb83dddb2",
   "metadata": {},
   "outputs": [
    {
     "name": "stderr",
     "output_type": "stream",
     "text": [
      "C:\\Users\\LSNEV\\AppData\\Local\\Temp\\ipykernel_20844\\2686535894.py:2: FutureWarning: Indexing with multiple keys (implicitly converted to a tuple of keys) will be deprecated, use a list instead.\n",
      "  power_history = power_history.groupby(['id_encode','ds','tag'])['ele_price','ser_price','after_ser_price',\n"
     ]
    }
   ],
   "source": [
    "#重构数据，以天为单位\n",
    "power_history = power_history.groupby(['id_encode','ds','tag'])['ele_price','ser_price','after_ser_price',\n",
    "                                                       'total_price','f1','f2','f3'].mean().reset_index()"
   ]
  },
  {
   "cell_type": "code",
   "execution_count": 42,
   "id": "4cce278a-f2b8-4b9c-acf7-55a570b091ea",
   "metadata": {},
   "outputs": [
    {
     "data": {
      "text/plain": "   id_encode        ds    tag  ele_price  ser_price  after_ser_price  \\\n0          0  20220415  train       0.64       0.95             0.31   \n1          0  20220416  train       0.64       0.95             0.31   \n2          0  20220417  train       0.64       0.95             0.31   \n3          0  20220418  train       0.64       0.95             0.31   \n4          0  20220419  train       0.64       0.95             0.31   \n\n   total_price   f1   f2   f3  \n0         1.59  0.0  0.0  1.0  \n1         1.59  0.0  0.0  1.0  \n2         1.59  0.0  0.0  1.0  \n3         1.59  0.0  0.0  1.0  \n4         1.59  0.0  0.0  1.0  ",
      "text/html": "<div>\n<style scoped>\n    .dataframe tbody tr th:only-of-type {\n        vertical-align: middle;\n    }\n\n    .dataframe tbody tr th {\n        vertical-align: top;\n    }\n\n    .dataframe thead th {\n        text-align: right;\n    }\n</style>\n<table border=\"1\" class=\"dataframe\">\n  <thead>\n    <tr style=\"text-align: right;\">\n      <th></th>\n      <th>id_encode</th>\n      <th>ds</th>\n      <th>tag</th>\n      <th>ele_price</th>\n      <th>ser_price</th>\n      <th>after_ser_price</th>\n      <th>total_price</th>\n      <th>f1</th>\n      <th>f2</th>\n      <th>f3</th>\n    </tr>\n  </thead>\n  <tbody>\n    <tr>\n      <th>0</th>\n      <td>0</td>\n      <td>20220415</td>\n      <td>train</td>\n      <td>0.64</td>\n      <td>0.95</td>\n      <td>0.31</td>\n      <td>1.59</td>\n      <td>0.0</td>\n      <td>0.0</td>\n      <td>1.0</td>\n    </tr>\n    <tr>\n      <th>1</th>\n      <td>0</td>\n      <td>20220416</td>\n      <td>train</td>\n      <td>0.64</td>\n      <td>0.95</td>\n      <td>0.31</td>\n      <td>1.59</td>\n      <td>0.0</td>\n      <td>0.0</td>\n      <td>1.0</td>\n    </tr>\n    <tr>\n      <th>2</th>\n      <td>0</td>\n      <td>20220417</td>\n      <td>train</td>\n      <td>0.64</td>\n      <td>0.95</td>\n      <td>0.31</td>\n      <td>1.59</td>\n      <td>0.0</td>\n      <td>0.0</td>\n      <td>1.0</td>\n    </tr>\n    <tr>\n      <th>3</th>\n      <td>0</td>\n      <td>20220418</td>\n      <td>train</td>\n      <td>0.64</td>\n      <td>0.95</td>\n      <td>0.31</td>\n      <td>1.59</td>\n      <td>0.0</td>\n      <td>0.0</td>\n      <td>1.0</td>\n    </tr>\n    <tr>\n      <th>4</th>\n      <td>0</td>\n      <td>20220419</td>\n      <td>train</td>\n      <td>0.64</td>\n      <td>0.95</td>\n      <td>0.31</td>\n      <td>1.59</td>\n      <td>0.0</td>\n      <td>0.0</td>\n      <td>1.0</td>\n    </tr>\n  </tbody>\n</table>\n</div>"
     },
     "execution_count": 42,
     "metadata": {},
     "output_type": "execute_result"
    }
   ],
   "source": [
    "power_history.head()"
   ]
  },
  {
   "cell_type": "code",
   "execution_count": 21,
   "id": "c1c72353-e1d8-48d1-9239-20d9fd3ffd51",
   "metadata": {},
   "outputs": [],
   "source": [
    "# power = pd.read_csv('../raw_data/train/power.csv')\n",
    "power = pd.read_csv('../初赛1008//训练集/power.csv')"
   ]
  },
  {
   "cell_type": "code",
   "execution_count": null,
   "id": "2a774a48-27f2-4762-a1bb-5807c1c62544",
   "metadata": {},
   "outputs": [],
   "source": [
    "power = power.groupby(['id_encode','ds'])['power'].sum().reset_index()"
   ]
  },
  {
   "cell_type": "code",
   "execution_count": 34,
   "id": "dabb0934-3f2f-4989-84ba-0c958d063d5f",
   "metadata": {},
   "outputs": [],
   "source": [
    "# stub_info = pd.read_csv('../raw_data/train/stub_info.csv')\n",
    "stub_info = pd.read_csv('../初赛1008//训练集/stub_info.csv')"
   ]
  },
  {
   "cell_type": "markdown",
   "id": "da53524e-005c-41ad-90d5-a1459a5717f3",
   "metadata": {},
   "source": [
    "### 可视化EDA"
   ]
  },
  {
   "cell_type": "code",
   "execution_count": 35,
   "id": "4da49d71-8277-4811-aaab-a80942c187fc",
   "metadata": {},
   "outputs": [
    {
     "data": {
      "text/plain": "<Figure size 1500x500 with 1 Axes>",
      "image/png": "[encoded data removed]"
     },
     "metadata": {},
     "output_type": "display_data"
    }
   ],
   "source": [
    "power[power['id_encode']==5]['power'].plot(style='-',\n",
    "        figsize=(15, 5),\n",
    "        color=color_pal[6],\n",
    "        title='plot')\n",
    "plt.show()"
   ]
  },
  {
   "cell_type": "code",
   "execution_count": 37,
   "id": "c7014104-23f8-42c2-bbe4-4333f151fe29",
   "metadata": {},
   "outputs": [
    {
     "data": {
      "text/plain": "<AxesSubplot:ylabel='Frequency'>"
     },
     "execution_count": 37,
     "metadata": {},
     "output_type": "execute_result"
    },
    {
     "data": {
      "text/plain": "<Figure size 640x480 with 1 Axes>",
      "image/png": "[encoded data removed]"
     },
     "metadata": {},
     "output_type": "display_data"
    }
   ],
   "source": [
    "power['power'].plot(kind='hist', bins=500)"
   ]
  },
  {
   "cell_type": "code",
   "execution_count": 39,
   "id": "d884e948-3095-4552-9974-4fbfe8884406",
   "metadata": {},
   "outputs": [
    {
     "data": {
      "text/plain": "         id_encode        ds    tag  ele_price  ser_price  after_ser_price  \\\n0                0  20220415  train       0.64       0.95             0.31   \n1                0  20220415  train       0.64       0.95             0.31   \n2                0  20220415  train       0.64       0.95             0.31   \n3                0  20220415  train       0.64       0.95             0.31   \n4                0  20220415  train       0.64       0.95             0.31   \n...            ...       ...    ...        ...        ...              ...   \n3569879        499  20230417   test       0.00       0.51             0.51   \n3569880        499  20230418   test       0.00       0.51             0.51   \n3569881        499  20230419   test       0.00       0.51             0.51   \n3569882        499  20230420   test       0.00       0.51             0.51   \n3569883        499  20230421   test       0.00       0.51             0.51   \n\n         total_price   f1      f2   f3  hour  power  \n0               1.59  0.0     0.0  1.0   0.0    0.0  \n1               1.59  0.0     0.0  1.0   1.0    0.0  \n2               1.59  0.0     0.0  1.0   2.0    0.0  \n3               1.59  0.0     0.0  1.0   3.0    0.0  \n4               1.59  0.0     0.0  1.0   4.0    0.0  \n...              ...  ...     ...  ...   ...    ...  \n3569879         0.51  3.0  1240.0  NaN   NaN    NaN  \n3569880         0.51  3.0  1240.0  NaN   NaN    NaN  \n3569881         0.51  3.0  1240.0  NaN   NaN    NaN  \n3569882         0.51  3.0  1240.0  NaN   NaN    NaN  \n3569883         0.51  3.0  1240.0  NaN   NaN    NaN  \n\n[3569884 rows x 12 columns]",
      "text/html": "<div>\n<style scoped>\n    .dataframe tbody tr th:only-of-type {\n        vertical-align: middle;\n    }\n\n    .dataframe tbody tr th {\n        vertical-align: top;\n    }\n\n    .dataframe thead th {\n        text-align: right;\n    }\n</style>\n<table border=\"1\" class=\"dataframe\">\n  <thead>\n    <tr style=\"text-align: right;\">\n      <th></th>\n      <th>id_encode</th>\n      <th>ds</th>\n      <th>tag</th>\n      <th>ele_price</th>\n      <th>ser_price</th>\n      <th>after_ser_price</th>\n      <th>total_price</th>\n      <th>f1</th>\n      <th>f2</th>\n      <th>f3</th>\n      <th>hour</th>\n      <th>power</th>\n    </tr>\n  </thead>\n  <tbody>\n    <tr>\n      <th>0</th>\n      <td>0</td>\n      <td>20220415</td>\n      <td>train</td>\n      <td>0.64</td>\n      <td>0.95</td>\n      <td>0.31</td>\n      <td>1.59</td>\n      <td>0.0</td>\n      <td>0.0</td>\n      <td>1.0</td>\n      <td>0.0</td>\n      <td>0.0</td>\n    </tr>\n    <tr>\n      <th>1</th>\n      <td>0</td>\n      <td>20220415</td>\n      <td>train</td>\n      <td>0.64</td>\n      <td>0.95</td>\n      <td>0.31</td>\n      <td>1.59</td>\n      <td>0.0</td>\n      <td>0.0</td>\n      <td>1.0</td>\n      <td>1.0</td>\n      <td>0.0</td>\n    </tr>\n    <tr>\n      <th>2</th>\n      <td>0</td>\n      <td>20220415</td>\n      <td>train</td>\n      <td>0.64</td>\n      <td>0.95</td>\n      <td>0.31</td>\n      <td>1.59</td>\n      <td>0.0</td>\n      <td>0.0</td>\n      <td>1.0</td>\n      <td>2.0</td>\n      <td>0.0</td>\n    </tr>\n    <tr>\n      <th>3</th>\n      <td>0</td>\n      <td>20220415</td>\n      <td>train</td>\n      <td>0.64</td>\n      <td>0.95</td>\n      <td>0.31</td>\n      <td>1.59</td>\n      <td>0.0</td>\n      <td>0.0</td>\n      <td>1.0</td>\n      <td>3.0</td>\n      <td>0.0</td>\n    </tr>\n    <tr>\n      <th>4</th>\n      <td>0</td>\n      <td>20220415</td>\n      <td>train</td>\n      <td>0.64</td>\n      <td>0.95</td>\n      <td>0.31</td>\n      <td>1.59</td>\n      <td>0.0</td>\n      <td>0.0</td>\n      <td>1.0</td>\n      <td>4.0</td>\n      <td>0.0</td>\n    </tr>\n    <tr>\n      <th>...</th>\n      <td>...</td>\n      <td>...</td>\n      <td>...</td>\n      <td>...</td>\n      <td>...</td>\n      <td>...</td>\n      <td>...</td>\n      <td>...</td>\n      <td>...</td>\n      <td>...</td>\n      <td>...</td>\n      <td>...</td>\n    </tr>\n    <tr>\n      <th>3569879</th>\n      <td>499</td>\n      <td>20230417</td>\n      <td>test</td>\n      <td>0.00</td>\n      <td>0.51</td>\n      <td>0.51</td>\n      <td>0.51</td>\n      <td>3.0</td>\n      <td>1240.0</td>\n      <td>NaN</td>\n      <td>NaN</td>\n      <td>NaN</td>\n    </tr>\n    <tr>\n      <th>3569880</th>\n      <td>499</td>\n      <td>20230418</td>\n      <td>test</td>\n      <td>0.00</td>\n      <td>0.51</td>\n      <td>0.51</td>\n      <td>0.51</td>\n      <td>3.0</td>\n      <td>1240.0</td>\n      <td>NaN</td>\n      <td>NaN</td>\n      <td>NaN</td>\n    </tr>\n    <tr>\n      <th>3569881</th>\n      <td>499</td>\n      <td>20230419</td>\n      <td>test</td>\n      <td>0.00</td>\n      <td>0.51</td>\n      <td>0.51</td>\n      <td>0.51</td>\n      <td>3.0</td>\n      <td>1240.0</td>\n      <td>NaN</td>\n      <td>NaN</td>\n      <td>NaN</td>\n    </tr>\n    <tr>\n      <th>3569882</th>\n      <td>499</td>\n      <td>20230420</td>\n      <td>test</td>\n      <td>0.00</td>\n      <td>0.51</td>\n      <td>0.51</td>\n      <td>0.51</td>\n      <td>3.0</td>\n      <td>1240.0</td>\n      <td>NaN</td>\n      <td>NaN</td>\n      <td>NaN</td>\n    </tr>\n    <tr>\n      <th>3569883</th>\n      <td>499</td>\n      <td>20230421</td>\n      <td>test</td>\n      <td>0.00</td>\n      <td>0.51</td>\n      <td>0.51</td>\n      <td>0.51</td>\n      <td>3.0</td>\n      <td>1240.0</td>\n      <td>NaN</td>\n      <td>NaN</td>\n      <td>NaN</td>\n    </tr>\n  </tbody>\n</table>\n<p>3569884 rows × 12 columns</p>\n</div>"
     },
     "execution_count": 39,
     "metadata": {},
     "output_type": "execute_result"
    }
   ],
   "source": [
    "power_history"
   ]
  },
  {
   "cell_type": "markdown",
   "id": "22e48ddd-15b8-4d6e-bb97-e0054735746b",
   "metadata": {},
   "source": [
    "#### 合并数据集"
   ]
  },
  {
   "cell_type": "code",
   "execution_count": 36,
   "id": "a73a4dfa-0981-491c-be66-ef34b6d2adb0",
   "metadata": {},
   "outputs": [],
   "source": [
    "power_history = power_history.merge(power,on=['id_encode','ds'],how='left')"
   ]
  },
  {
   "cell_type": "code",
   "execution_count": null,
   "id": "92cba984-d220-4d76-b1df-25a9b2b66e65",
   "metadata": {},
   "outputs": [],
   "source": [
    "power_history = power_history.merge(stub_info,on=['id_encode'],how='left')"
   ]
  },
  {
   "cell_type": "code",
   "execution_count": null,
   "id": "fffd7bf8-c692-435d-ab12-abb3ee9fe34f",
   "metadata": {},
   "outputs": [],
   "source": [
    "#删除训练集power为空的\n",
    "power_history = power_history[~((power_history['tag']=='train')&(power_history['power'].isnull()))]"
   ]
  },
  {
   "cell_type": "code",
   "execution_count": null,
   "id": "b523ed43-9981-4105-b982-dc968a6128c0",
   "metadata": {},
   "outputs": [],
   "source": []
  },
  {
   "cell_type": "markdown",
   "id": "7a5ef738-2bb0-4392-a72a-045a18bd2283",
   "metadata": {},
   "source": [
    "### 特征工程"
   ]
  },
  {
   "cell_type": "code",
   "execution_count": null,
   "id": "431e4c73-10eb-48d9-90d7-f74ff6737147",
   "metadata": {},
   "outputs": [],
   "source": [
    "#时间滞后特征\n",
    "for i in range(7, 14):\n",
    "    power_history['lag_{}'.format(i)]=power_history.groupby('id_encode')['power'].shift(i)"
   ]
  },
  {
   "cell_type": "code",
   "execution_count": null,
   "id": "c10a7452-7629-406a-9453-5c8b4923fde8",
   "metadata": {},
   "outputs": [],
   "source": [
    "power_history['date'] = pd.to_datetime(power_history['ds'].astype(str),format='%Y-%m-%d')"
   ]
  },
  {
   "cell_type": "code",
   "execution_count": null,
   "id": "dd7caf40-ccdb-4c01-8774-b9345355e2dc",
   "metadata": {},
   "outputs": [],
   "source": [
    "power_history = power_history.reset_index(drop=True)"
   ]
  },
  {
   "cell_type": "code",
   "execution_count": null,
   "id": "248bd474-951a-4fae-ad79-6bebe0d430e9",
   "metadata": {},
   "outputs": [],
   "source": [
    "#Create time series features\n",
    "power_history['dayofweek'] = power_history['date'].dt.dayofweek\n",
    "power_history['quarter'] = power_history['date'].dt.quarter\n",
    "power_history['month'] = power_history['date'].dt.month\n",
    "power_history['dayofyear'] = power_history['date'].dt.dayofyear\n",
    "power_history['day'] = power_history['date'].dt.day\n",
    "power_history['weekofyear'] = power_history['date'].dt.weekofyear"
   ]
  },
  {
   "cell_type": "code",
   "execution_count": null,
   "id": "b8917816-3911-4037-8aa3-8791245eedc7",
   "metadata": {},
   "outputs": [],
   "source": []
  },
  {
   "cell_type": "code",
   "execution_count": null,
   "id": "7f0d960f-df88-4606-83ec-3c11cd7546d1",
   "metadata": {},
   "outputs": [],
   "source": [
    "df=power_history.copy()"
   ]
  },
  {
   "cell_type": "code",
   "execution_count": null,
   "id": "8b799962-08de-4de3-a0a4-fd9fe6b7d695",
   "metadata": {},
   "outputs": [],
   "source": [
    "from sklearn.preprocessing import LabelEncoder\n",
    "le = LabelEncoder()\n",
    "df['h3'] = le.fit_transform(df['h3'])"
   ]
  },
  {
   "cell_type": "code",
   "execution_count": null,
   "id": "6cc56575-0438-42f3-80d8-ac0ab54b85c0",
   "metadata": {},
   "outputs": [],
   "source": [
    "df['flag'] = df['flag'].replace({'A':1,'B':2})"
   ]
  },
  {
   "cell_type": "code",
   "execution_count": null,
   "id": "7fef43de-da69-4e54-ab00-60a2e1f74345",
   "metadata": {},
   "outputs": [],
   "source": [
    "df['flag'].value_counts()"
   ]
  },
  {
   "cell_type": "code",
   "execution_count": null,
   "id": "3c5e9a49-6f5f-44ae-a052-11befbfce3fc",
   "metadata": {},
   "outputs": [],
   "source": [
    "feat = [i for i in df.columns if i not in['ds','date','power','tag']]"
   ]
  },
  {
   "cell_type": "code",
   "execution_count": null,
   "id": "fe6a9ff8-0fd3-4a78-8613-9be3a565a574",
   "metadata": {},
   "outputs": [],
   "source": [
    "train_x=df[df['tag']=='train'][feat]"
   ]
  },
  {
   "cell_type": "code",
   "execution_count": null,
   "id": "05e63763-dec8-44f5-8265-7de1b622d949",
   "metadata": {},
   "outputs": [],
   "source": [
    "train_y=df[df['tag']=='train']['power']"
   ]
  },
  {
   "cell_type": "code",
   "execution_count": null,
   "id": "1385e03d-66c4-43e7-8ebc-71a31d3c58df",
   "metadata": {},
   "outputs": [],
   "source": [
    "test = df[df['tag']=='test'][feat]"
   ]
  },
  {
   "cell_type": "code",
   "execution_count": null,
   "id": "23454fbc-3884-4a58-82a2-ef46506d8128",
   "metadata": {},
   "outputs": [],
   "source": [
    "test_p = df[df['tag']=='test'][['id_encode','ds']]"
   ]
  },
  {
   "cell_type": "markdown",
   "id": "03ddd910-cfa3-4be4-872d-e4ee73d874e0",
   "metadata": {},
   "source": [
    "### 建模"
   ]
  },
  {
   "cell_type": "code",
   "execution_count": null,
   "id": "30ec759c-207b-4dfd-bb49-4e4477500064",
   "metadata": {},
   "outputs": [],
   "source": [
    "folds = 5\n",
    "seed = 2020\n",
    "kf = KFold(n_splits=folds, shuffle=True, random_state=seed)\n",
    "\n",
    "#fold = 0\n",
    "preds = []\n",
    "oof = np.zeros(train_x.shape[0])\n",
    "pred = np.zeros(test.shape[0])\n",
    "\n",
    "scores = []\n",
    "for train_idx, val_idx in kf.split(train_x, train_y):\n",
    "    X_train = train_x.iloc[train_idx]\n",
    "    y_train = train_y.iloc[train_idx]\n",
    "\n",
    "    X_test = train_x.iloc[val_idx]\n",
    "    y_test = train_y.iloc[val_idx]\n",
    "\n",
    "    reg = xgb.XGBRegressor(base_score=0.5, booster='gbtree',    \n",
    "                           n_estimators=5000,\n",
    "                           early_stopping_rounds=50,\n",
    "                           objective='reg:squarederror',\n",
    "                           max_depth=7,\n",
    "                           learning_rate=0.01)\n",
    "    reg.fit(X_train, y_train,\n",
    "            eval_set=[(X_train, y_train), (X_test, y_test)],\n",
    "            verbose=100)\n",
    "\n",
    "    y_pred = reg.predict(X_test)\n",
    "    oof[val_idx] =y_pred\n",
    "    preds.append(y_pred)\n",
    "    score = np.sqrt(mean_squared_error(y_test, y_pred))\n",
    "    scores.append(score)\n",
    "    print('cv_score:',scores)\n",
    "    \n",
    "    test_pred = reg.predict(test)\n",
    "    pred += test_pred / kf.n_splits\n",
    "    "
   ]
  },
  {
   "cell_type": "code",
   "execution_count": null,
   "id": "12188de9-4245-44be-85cb-6cbfeb95c3e5",
   "metadata": {},
   "outputs": [],
   "source": [
    "pred"
   ]
  },
  {
   "cell_type": "code",
   "execution_count": null,
   "id": "ac8eecb0-7cdd-4e52-a42c-28f726d1a7b1",
   "metadata": {},
   "outputs": [],
   "source": [
    "test_p['power']=pred"
   ]
  },
  {
   "cell_type": "code",
   "execution_count": null,
   "id": "b8df5b92-c72f-46ef-b4c9-78ecba0e02c3",
   "metadata": {},
   "outputs": [],
   "source": [
    "test_p[test_p['power']<0]"
   ]
  },
  {
   "cell_type": "code",
   "execution_count": null,
   "id": "911a0aba-4894-420d-934c-6abf8287b2ae",
   "metadata": {},
   "outputs": [],
   "source": [
    "test_p['power']=test_p['power'].apply(lambda x : 0 if x<0 else x)"
   ]
  },
  {
   "cell_type": "code",
   "execution_count": null,
   "id": "1814542b-00f8-4815-a993-a531c028f413",
   "metadata": {},
   "outputs": [],
   "source": [
    "test_p"
   ]
  },
  {
   "cell_type": "code",
   "execution_count": null,
   "id": "350931d4-4375-4655-b776-38f918ed527a",
   "metadata": {},
   "outputs": [],
   "source": [
    "#sub = test_p.groupby(['id_encode','ds'])['power'].sum().reset_index()"
   ]
  },
  {
   "cell_type": "code",
   "execution_count": null,
   "id": "2df7c271-7f2a-49e2-8087-2f949ae26e74",
   "metadata": {},
   "outputs": [],
   "source": [
    "sub=test_p.copy()"
   ]
  },
  {
   "cell_type": "code",
   "execution_count": null,
   "id": "022b7f86-803f-4031-9585-1021d30681ab",
   "metadata": {},
   "outputs": [],
   "source": [
    "sub.to_csv('sub.csv',index=False)"
   ]
  },
  {
   "cell_type": "markdown",
   "id": "4e8f1a16-f7e2-4f39-858d-89fe908d415c",
   "metadata": {},
   "source": [
    "### 结果可视化"
   ]
  },
  {
   "cell_type": "code",
   "execution_count": null,
   "id": "c335d692-3c44-477b-8add-9a0a991120a2",
   "metadata": {},
   "outputs": [],
   "source": [
    "trian_dd = df[(df['tag']=='train')][['id_encode','ds','power']]\n",
    "trian_dd = trian_dd.set_index('ds')"
   ]
  },
  {
   "cell_type": "code",
   "execution_count": null,
   "id": "bbe9bcad-bb4c-4732-99c9-8c0e80c16f6b",
   "metadata": {},
   "outputs": [],
   "source": [
    "test_dd = test_p.copy()\n",
    "test_dd = test_dd.set_index('ds')"
   ]
  },
  {
   "cell_type": "code",
   "execution_count": null,
   "id": "8b3b525e-9ed1-444f-aab7-8cd2c6f6c0b2",
   "metadata": {},
   "outputs": [],
   "source": [
    "fig, axs = plt.subplots(5, 1, figsize=(15, 15), sharex=True)\n",
    "for i in range(5):\n",
    "    trian_dd[trian_dd['id_encode']==i]['power'][-60:].plot(ax=axs[i],\n",
    "                      label='Training Set',\n",
    "                      title='Data Train/Test Split-id_encode-{}'.format(i))\n",
    "    test_dd[test_dd['id_encode']==i]['power'].plot(ax=axs[i],\n",
    "                     label='Test Set')\n",
    "    axs[i].axvline(test_dd.index.min(), color='black', ls='--')"
   ]
  }
 ],
 "metadata": {
  "kernelspec": {
   "display_name": "Python 3",
   "language": "python",
   "name": "python3"
  },
  "language_info": {
   "codemirror_mode": {
    "name": "ipython",
    "version": 3
   },
   "file_extension": ".py",
   "mimetype": "text/x-python",
   "name": "python",
   "nbconvert_exporter": "python",
   "pygments_lexer": "ipython3",
   "version": "3.7.6"
  }
 },
 "nbformat": 4,
 "nbformat_minor": 5
}
