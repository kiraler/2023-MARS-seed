{
 "cells": [
  {
   "cell_type": "code",
   "execution_count": 16,
   "metadata": {},
   "outputs": [
    {
     "name": "stdout",
     "output_type": "stream",
     "text": [
      "The autoreload extension is already loaded. To reload it, use:\n",
      "  %reload_ext autoreload\n"
     ]
    }
   ],
   "source": [
    "import numpy as np\n",
    "import pandas as pd\n",
    "from sklearn.metrics import log_loss\n",
    "import lightgbm as lgb\n",
    "from catboost import Pool, CatBoostClassifier\n",
    "from sklearn.model_selection import KFold, train_test_split, StratifiedKFold\n",
    "import random\n",
    "from tqdm import tqdm\n",
    "import warnings\n",
    "warnings.filterwarnings('ignore')\n",
    "pd.set_option('max_colwidth',200)\n",
    "from IPython.core.interactiveshell import InteractiveShell\n",
    "InteractiveShell.ast_node_interactivity = \"all\"\n",
    "\n",
    "import matplotlib.pyplot as plt\n",
    "\n",
    "import sys\n",
    "%load_ext autoreload\n",
    "%autoreload 2\n",
    "sys.path.append(\"../src\")\n",
    "from regression_lgbmodel import LgbRegression\n",
    "from feature_engineering import feat_engineering, city_preprocess, data_day_group, data_merge\n"
   ]
  },
  {
   "cell_type": "code",
   "execution_count": 17,
   "metadata": {},
   "outputs": [
    {
     "data": {
      "text/plain": "True"
     },
     "execution_count": 17,
     "metadata": {},
     "output_type": "execute_result"
    },
    {
     "data": {
      "text/plain": "   id_encode  hour  ele_price  ser_price  after_ser_price  total_price   f1  \\\n0          0   0.0       0.64       0.95             0.31         1.59  0.0   \n1          0   1.0       0.64       0.95             0.31         1.59  0.0   \n2          0   2.0       0.64       0.95             0.31         1.59  0.0   \n3          0   3.0       0.64       0.95             0.31         1.59  0.0   \n4          0   4.0       0.64       0.95             0.31         1.59  0.0   \n\n    f2   f3        ds  \n0  0.0  1.0  20220415  \n1  0.0  1.0  20220415  \n2  0.0  1.0  20220415  \n3  0.0  1.0  20220415  \n4  0.0  1.0  20220415  ",
      "text/html": "<div>\n<style scoped>\n    .dataframe tbody tr th:only-of-type {\n        vertical-align: middle;\n    }\n\n    .dataframe tbody tr th {\n        vertical-align: top;\n    }\n\n    .dataframe thead th {\n        text-align: right;\n    }\n</style>\n<table border=\"1\" class=\"dataframe\">\n  <thead>\n    <tr style=\"text-align: right;\">\n      <th></th>\n      <th>id_encode</th>\n      <th>hour</th>\n      <th>ele_price</th>\n      <th>ser_price</th>\n      <th>after_ser_price</th>\n      <th>total_price</th>\n      <th>f1</th>\n      <th>f2</th>\n      <th>f3</th>\n      <th>ds</th>\n    </tr>\n  </thead>\n  <tbody>\n    <tr>\n      <th>0</th>\n      <td>0</td>\n      <td>0.0</td>\n      <td>0.64</td>\n      <td>0.95</td>\n      <td>0.31</td>\n      <td>1.59</td>\n      <td>0.0</td>\n      <td>0.0</td>\n      <td>1.0</td>\n      <td>20220415</td>\n    </tr>\n    <tr>\n      <th>1</th>\n      <td>0</td>\n      <td>1.0</td>\n      <td>0.64</td>\n      <td>0.95</td>\n      <td>0.31</td>\n      <td>1.59</td>\n      <td>0.0</td>\n      <td>0.0</td>\n      <td>1.0</td>\n      <td>20220415</td>\n    </tr>\n    <tr>\n      <th>2</th>\n      <td>0</td>\n      <td>2.0</td>\n      <td>0.64</td>\n      <td>0.95</td>\n      <td>0.31</td>\n      <td>1.59</td>\n      <td>0.0</td>\n      <td>0.0</td>\n      <td>1.0</td>\n      <td>20220415</td>\n    </tr>\n    <tr>\n      <th>3</th>\n      <td>0</td>\n      <td>3.0</td>\n      <td>0.64</td>\n      <td>0.95</td>\n      <td>0.31</td>\n      <td>1.59</td>\n      <td>0.0</td>\n      <td>0.0</td>\n      <td>1.0</td>\n      <td>20220415</td>\n    </tr>\n    <tr>\n      <th>4</th>\n      <td>0</td>\n      <td>4.0</td>\n      <td>0.64</td>\n      <td>0.95</td>\n      <td>0.31</td>\n      <td>1.59</td>\n      <td>0.0</td>\n      <td>0.0</td>\n      <td>1.0</td>\n      <td>20220415</td>\n    </tr>\n  </tbody>\n</table>\n</div>"
     },
     "execution_count": 17,
     "metadata": {},
     "output_type": "execute_result"
    }
   ],
   "source": [
    "df_power = pd.read_csv('../../../初赛1008/训练集/power.csv')\n",
    "df_his = pd.read_csv('../../../初赛1008/训练集/power_forecast_history.csv')\n",
    "df_stub = pd.read_csv('../../../初赛1008/训练集/stub_info.csv')\n",
    "\n",
    "df_test_his = pd.read_csv('../../../初赛1008/测试集/power_forecast_history.csv')\n",
    "df_test_stub = pd.read_csv('../../../初赛1008/测试集/stub_info.csv')\n",
    "df_stub.equals(df_test_stub)\n",
    "df_his_all = pd.concat([df_his, df_test_his]).reset_index(drop=True)\n",
    "df_his_all.head()"
   ]
  },
  {
   "cell_type": "code",
   "execution_count": 18,
   "metadata": {},
   "outputs": [],
   "source": [
    "\n",
    "# df_city['province'].value_counts()\n",
    "# df_city[df_city['province']=='上海市']\n",
    "# df_stub[df_stub['h3']=='85309d6ffffffff']"
   ]
  },
  {
   "cell_type": "markdown",
   "metadata": {},
   "source": [
    "## 特征工程"
   ]
  },
  {
   "cell_type": "code",
   "execution_count": 19,
   "metadata": {},
   "outputs": [],
   "source": [
    "df_city = pd.read_csv('../../../初赛1008/h3_feature.csv',encoding='GBK')\n",
    "df_weather = pd.read_parquet('../../../初赛1008/city_weather.parquet')\n",
    "# df_city = city_preprocess(df_city, df_weather)\n",
    "# df_city"
   ]
  },
  {
   "cell_type": "code",
   "execution_count": 21,
   "metadata": {},
   "outputs": [
    {
     "name": "stdout",
     "output_type": "stream",
     "text": [
      "df_time_all.shape: (186000, 4)\n",
      "ori df: (186000, 29)\n"
     ]
    },
    {
     "ename": "TypeError",
     "evalue": "incompatible index of inserted column with frame index",
     "output_type": "error",
     "traceback": [
      "\u001B[1;31m---------------------------------------------------------------------------\u001B[0m",
      "\u001B[1;31mValueError\u001B[0m                                Traceback (most recent call last)",
      "File \u001B[1;32md:\\python9.2\\lib\\site-packages\\pandas\\core\\frame.py:12307\u001B[0m, in \u001B[0;36m_reindex_for_setitem\u001B[1;34m(value, index)\u001B[0m\n\u001B[0;32m  12306\u001B[0m \u001B[38;5;28;01mtry\u001B[39;00m:\n\u001B[1;32m> 12307\u001B[0m     reindexed_value \u001B[38;5;241m=\u001B[39m \u001B[43mvalue\u001B[49m\u001B[38;5;241;43m.\u001B[39;49m\u001B[43mreindex\u001B[49m\u001B[43m(\u001B[49m\u001B[43mindex\u001B[49m\u001B[43m)\u001B[49m\u001B[38;5;241m.\u001B[39m_values\n\u001B[0;32m  12308\u001B[0m \u001B[38;5;28;01mexcept\u001B[39;00m \u001B[38;5;167;01mValueError\u001B[39;00m \u001B[38;5;28;01mas\u001B[39;00m err:\n\u001B[0;32m  12309\u001B[0m     \u001B[38;5;66;03m# raised in MultiIndex.from_tuples, see test_insert_error_msmgs\u001B[39;00m\n",
      "File \u001B[1;32md:\\python9.2\\lib\\site-packages\\pandas\\core\\series.py:4977\u001B[0m, in \u001B[0;36mSeries.reindex\u001B[1;34m(self, index, axis, method, copy, level, fill_value, limit, tolerance)\u001B[0m\n\u001B[0;32m   4960\u001B[0m \u001B[38;5;129m@doc\u001B[39m(\n\u001B[0;32m   4961\u001B[0m     NDFrame\u001B[38;5;241m.\u001B[39mreindex,  \u001B[38;5;66;03m# type: ignore[has-type]\u001B[39;00m\n\u001B[0;32m   4962\u001B[0m     klass\u001B[38;5;241m=\u001B[39m_shared_doc_kwargs[\u001B[38;5;124m\"\u001B[39m\u001B[38;5;124mklass\u001B[39m\u001B[38;5;124m\"\u001B[39m],\n\u001B[1;32m   (...)\u001B[0m\n\u001B[0;32m   4975\u001B[0m     tolerance\u001B[38;5;241m=\u001B[39m\u001B[38;5;28;01mNone\u001B[39;00m,\n\u001B[0;32m   4976\u001B[0m ) \u001B[38;5;241m-\u001B[39m\u001B[38;5;241m>\u001B[39m Series:\n\u001B[1;32m-> 4977\u001B[0m     \u001B[38;5;28;01mreturn\u001B[39;00m \u001B[38;5;28;43msuper\u001B[39;49m\u001B[43m(\u001B[49m\u001B[43m)\u001B[49m\u001B[38;5;241;43m.\u001B[39;49m\u001B[43mreindex\u001B[49m\u001B[43m(\u001B[49m\n\u001B[0;32m   4978\u001B[0m \u001B[43m        \u001B[49m\u001B[43mindex\u001B[49m\u001B[38;5;241;43m=\u001B[39;49m\u001B[43mindex\u001B[49m\u001B[43m,\u001B[49m\n\u001B[0;32m   4979\u001B[0m \u001B[43m        \u001B[49m\u001B[43mmethod\u001B[49m\u001B[38;5;241;43m=\u001B[39;49m\u001B[43mmethod\u001B[49m\u001B[43m,\u001B[49m\n\u001B[0;32m   4980\u001B[0m \u001B[43m        \u001B[49m\u001B[43mcopy\u001B[49m\u001B[38;5;241;43m=\u001B[39;49m\u001B[43mcopy\u001B[49m\u001B[43m,\u001B[49m\n\u001B[0;32m   4981\u001B[0m \u001B[43m        \u001B[49m\u001B[43mlevel\u001B[49m\u001B[38;5;241;43m=\u001B[39;49m\u001B[43mlevel\u001B[49m\u001B[43m,\u001B[49m\n\u001B[0;32m   4982\u001B[0m \u001B[43m        \u001B[49m\u001B[43mfill_value\u001B[49m\u001B[38;5;241;43m=\u001B[39;49m\u001B[43mfill_value\u001B[49m\u001B[43m,\u001B[49m\n\u001B[0;32m   4983\u001B[0m \u001B[43m        \u001B[49m\u001B[43mlimit\u001B[49m\u001B[38;5;241;43m=\u001B[39;49m\u001B[43mlimit\u001B[49m\u001B[43m,\u001B[49m\n\u001B[0;32m   4984\u001B[0m \u001B[43m        \u001B[49m\u001B[43mtolerance\u001B[49m\u001B[38;5;241;43m=\u001B[39;49m\u001B[43mtolerance\u001B[49m\u001B[43m,\u001B[49m\n\u001B[0;32m   4985\u001B[0m \u001B[43m    \u001B[49m\u001B[43m)\u001B[49m\n",
      "File \u001B[1;32md:\\python9.2\\lib\\site-packages\\pandas\\core\\generic.py:5521\u001B[0m, in \u001B[0;36mNDFrame.reindex\u001B[1;34m(self, labels, index, columns, axis, method, copy, level, fill_value, limit, tolerance)\u001B[0m\n\u001B[0;32m   5520\u001B[0m \u001B[38;5;66;03m# perform the reindex on the axes\u001B[39;00m\n\u001B[1;32m-> 5521\u001B[0m \u001B[38;5;28;01mreturn\u001B[39;00m \u001B[38;5;28;43mself\u001B[39;49m\u001B[38;5;241;43m.\u001B[39;49m\u001B[43m_reindex_axes\u001B[49m\u001B[43m(\u001B[49m\n\u001B[0;32m   5522\u001B[0m \u001B[43m    \u001B[49m\u001B[43maxes\u001B[49m\u001B[43m,\u001B[49m\u001B[43m \u001B[49m\u001B[43mlevel\u001B[49m\u001B[43m,\u001B[49m\u001B[43m \u001B[49m\u001B[43mlimit\u001B[49m\u001B[43m,\u001B[49m\u001B[43m \u001B[49m\u001B[43mtolerance\u001B[49m\u001B[43m,\u001B[49m\u001B[43m \u001B[49m\u001B[43mmethod\u001B[49m\u001B[43m,\u001B[49m\u001B[43m \u001B[49m\u001B[43mfill_value\u001B[49m\u001B[43m,\u001B[49m\u001B[43m \u001B[49m\u001B[43mcopy\u001B[49m\n\u001B[0;32m   5523\u001B[0m \u001B[43m\u001B[49m\u001B[43m)\u001B[49m\u001B[38;5;241m.\u001B[39m__finalize__(\u001B[38;5;28mself\u001B[39m, method\u001B[38;5;241m=\u001B[39m\u001B[38;5;124m\"\u001B[39m\u001B[38;5;124mreindex\u001B[39m\u001B[38;5;124m\"\u001B[39m)\n",
      "File \u001B[1;32md:\\python9.2\\lib\\site-packages\\pandas\\core\\generic.py:5544\u001B[0m, in \u001B[0;36mNDFrame._reindex_axes\u001B[1;34m(self, axes, level, limit, tolerance, method, fill_value, copy)\u001B[0m\n\u001B[0;32m   5543\u001B[0m ax \u001B[38;5;241m=\u001B[39m \u001B[38;5;28mself\u001B[39m\u001B[38;5;241m.\u001B[39m_get_axis(a)\n\u001B[1;32m-> 5544\u001B[0m new_index, indexer \u001B[38;5;241m=\u001B[39m \u001B[43max\u001B[49m\u001B[38;5;241;43m.\u001B[39;49m\u001B[43mreindex\u001B[49m\u001B[43m(\u001B[49m\n\u001B[0;32m   5545\u001B[0m \u001B[43m    \u001B[49m\u001B[43mlabels\u001B[49m\u001B[43m,\u001B[49m\u001B[43m \u001B[49m\u001B[43mlevel\u001B[49m\u001B[38;5;241;43m=\u001B[39;49m\u001B[43mlevel\u001B[49m\u001B[43m,\u001B[49m\u001B[43m \u001B[49m\u001B[43mlimit\u001B[49m\u001B[38;5;241;43m=\u001B[39;49m\u001B[43mlimit\u001B[49m\u001B[43m,\u001B[49m\u001B[43m \u001B[49m\u001B[43mtolerance\u001B[49m\u001B[38;5;241;43m=\u001B[39;49m\u001B[43mtolerance\u001B[49m\u001B[43m,\u001B[49m\u001B[43m \u001B[49m\u001B[43mmethod\u001B[49m\u001B[38;5;241;43m=\u001B[39;49m\u001B[43mmethod\u001B[49m\n\u001B[0;32m   5546\u001B[0m \u001B[43m\u001B[49m\u001B[43m)\u001B[49m\n\u001B[0;32m   5548\u001B[0m axis \u001B[38;5;241m=\u001B[39m \u001B[38;5;28mself\u001B[39m\u001B[38;5;241m.\u001B[39m_get_axis_number(a)\n",
      "File \u001B[1;32md:\\python9.2\\lib\\site-packages\\pandas\\core\\indexes\\base.py:4437\u001B[0m, in \u001B[0;36mIndex.reindex\u001B[1;34m(self, target, method, level, limit, tolerance)\u001B[0m\n\u001B[0;32m   4435\u001B[0m             indexer, _ \u001B[38;5;241m=\u001B[39m \u001B[38;5;28mself\u001B[39m\u001B[38;5;241m.\u001B[39mget_indexer_non_unique(target)\n\u001B[1;32m-> 4437\u001B[0m target \u001B[38;5;241m=\u001B[39m \u001B[38;5;28;43mself\u001B[39;49m\u001B[38;5;241;43m.\u001B[39;49m\u001B[43m_wrap_reindex_result\u001B[49m\u001B[43m(\u001B[49m\u001B[43mtarget\u001B[49m\u001B[43m,\u001B[49m\u001B[43m \u001B[49m\u001B[43mindexer\u001B[49m\u001B[43m,\u001B[49m\u001B[43m \u001B[49m\u001B[43mpreserve_names\u001B[49m\u001B[43m)\u001B[49m\n\u001B[0;32m   4438\u001B[0m \u001B[38;5;28;01mreturn\u001B[39;00m target, indexer\n",
      "File \u001B[1;32md:\\python9.2\\lib\\site-packages\\pandas\\core\\indexes\\multi.py:2602\u001B[0m, in \u001B[0;36mMultiIndex._wrap_reindex_result\u001B[1;34m(self, target, indexer, preserve_names)\u001B[0m\n\u001B[0;32m   2601\u001B[0m \u001B[38;5;28;01mtry\u001B[39;00m:\n\u001B[1;32m-> 2602\u001B[0m     target \u001B[38;5;241m=\u001B[39m \u001B[43mMultiIndex\u001B[49m\u001B[38;5;241;43m.\u001B[39;49m\u001B[43mfrom_tuples\u001B[49m\u001B[43m(\u001B[49m\u001B[43mtarget\u001B[49m\u001B[43m)\u001B[49m\n\u001B[0;32m   2603\u001B[0m \u001B[38;5;28;01mexcept\u001B[39;00m \u001B[38;5;167;01mTypeError\u001B[39;00m:\n\u001B[0;32m   2604\u001B[0m     \u001B[38;5;66;03m# not all tuples, see test_constructor_dict_multiindex_reindex_flat\u001B[39;00m\n",
      "File \u001B[1;32md:\\python9.2\\lib\\site-packages\\pandas\\core\\indexes\\multi.py:220\u001B[0m, in \u001B[0;36mnames_compat.<locals>.new_meth\u001B[1;34m(self_or_cls, *args, **kwargs)\u001B[0m\n\u001B[0;32m    218\u001B[0m     kwargs[\u001B[38;5;124m\"\u001B[39m\u001B[38;5;124mnames\u001B[39m\u001B[38;5;124m\"\u001B[39m] \u001B[38;5;241m=\u001B[39m kwargs\u001B[38;5;241m.\u001B[39mpop(\u001B[38;5;124m\"\u001B[39m\u001B[38;5;124mname\u001B[39m\u001B[38;5;124m\"\u001B[39m)\n\u001B[1;32m--> 220\u001B[0m \u001B[38;5;28;01mreturn\u001B[39;00m meth(self_or_cls, \u001B[38;5;241m*\u001B[39margs, \u001B[38;5;241m*\u001B[39m\u001B[38;5;241m*\u001B[39mkwargs)\n",
      "File \u001B[1;32md:\\python9.2\\lib\\site-packages\\pandas\\core\\indexes\\multi.py:615\u001B[0m, in \u001B[0;36mMultiIndex.from_tuples\u001B[1;34m(cls, tuples, sortorder, names)\u001B[0m\n\u001B[0;32m    613\u001B[0m         tuples \u001B[38;5;241m=\u001B[39m np\u001B[38;5;241m.\u001B[39masarray(tuples\u001B[38;5;241m.\u001B[39m_values)\n\u001B[1;32m--> 615\u001B[0m     arrays \u001B[38;5;241m=\u001B[39m \u001B[38;5;28mlist\u001B[39m(\u001B[43mlib\u001B[49m\u001B[38;5;241;43m.\u001B[39;49m\u001B[43mtuples_to_object_array\u001B[49m\u001B[43m(\u001B[49m\u001B[43mtuples\u001B[49m\u001B[43m)\u001B[49m\u001B[38;5;241m.\u001B[39mT)\n\u001B[0;32m    616\u001B[0m \u001B[38;5;28;01melif\u001B[39;00m \u001B[38;5;28misinstance\u001B[39m(tuples, \u001B[38;5;28mlist\u001B[39m):\n",
      "File \u001B[1;32mlib.pyx:2974\u001B[0m, in \u001B[0;36mpandas._libs.lib.tuples_to_object_array\u001B[1;34m()\u001B[0m\n",
      "\u001B[1;31mValueError\u001B[0m: Buffer dtype mismatch, expected 'Python object' but got 'long long'",
      "\nThe above exception was the direct cause of the following exception:\n",
      "\u001B[1;31mTypeError\u001B[0m                                 Traceback (most recent call last)",
      "Cell \u001B[1;32mIn [21], line 3\u001B[0m\n\u001B[0;32m      1\u001B[0m df_his_day, df_power_day, df_power_mean \u001B[38;5;241m=\u001B[39m data_day_group(df_his_all, df_power)\n\u001B[0;32m      2\u001B[0m df \u001B[38;5;241m=\u001B[39m data_merge(df_stub, df_his_day, df_power_day, df_power_mean, df_city)\n\u001B[1;32m----> 3\u001B[0m df \u001B[38;5;241m=\u001B[39m \u001B[43mfeat_engineering\u001B[49m\u001B[43m(\u001B[49m\u001B[43mdf\u001B[49m\u001B[43m)\u001B[49m\n\u001B[0;32m      5\u001B[0m df \u001B[38;5;241m=\u001B[39m df\u001B[38;5;241m.\u001B[39mmerge(df_city, on\u001B[38;5;241m=\u001B[39m[\u001B[38;5;124m'\u001B[39m\u001B[38;5;124mh3\u001B[39m\u001B[38;5;124m'\u001B[39m, \u001B[38;5;124m'\u001B[39m\u001B[38;5;124mtime\u001B[39m\u001B[38;5;124m'\u001B[39m], how\u001B[38;5;241m=\u001B[39m\u001B[38;5;124m'\u001B[39m\u001B[38;5;124mleft\u001B[39m\u001B[38;5;124m'\u001B[39m)\n\u001B[0;32m      6\u001B[0m \u001B[38;5;66;03m# 删除填补的空缺字段\u001B[39;00m\n",
      "File \u001B[1;32mD:\\jscode\\2023-MARS-seed\\god_code\\2023SEED_Charging_Station_Forecast-main\\src\\feature_engineering.py:95\u001B[0m, in \u001B[0;36mfeat_engineering\u001B[1;34m(df)\u001B[0m\n\u001B[0;32m     91\u001B[0m \u001B[38;5;66;03m# df['quarter'] = df['time'].dt.quarter\u001B[39;00m\n\u001B[0;32m     93\u001B[0m \u001B[38;5;28;01mfor\u001B[39;00m i \u001B[38;5;129;01min\u001B[39;00m \u001B[38;5;28mrange\u001B[39m(\u001B[38;5;241m1\u001B[39m, \u001B[38;5;241m5\u001B[39m):\n\u001B[0;32m     94\u001B[0m     \u001B[38;5;66;03m# ok --testA: 235.8-> 229.8 oof 265.9 -> 261.2\u001B[39;00m\n\u001B[1;32m---> 95\u001B[0m     \u001B[43mdf\u001B[49m\u001B[43m[\u001B[49m\u001B[38;5;124;43mf\u001B[39;49m\u001B[38;5;124;43m'\u001B[39;49m\u001B[38;5;124;43mpower_\u001B[39;49m\u001B[38;5;132;43;01m{\u001B[39;49;00m\u001B[43mi\u001B[49m\u001B[38;5;132;43;01m}\u001B[39;49;00m\u001B[38;5;124;43mweek\u001B[39;49m\u001B[38;5;124;43m'\u001B[39;49m\u001B[43m]\u001B[49m \u001B[38;5;241m=\u001B[39m df\u001B[38;5;241m.\u001B[39mgroupby(\u001B[38;5;124m'\u001B[39m\u001B[38;5;124mid_encode\u001B[39m\u001B[38;5;124m'\u001B[39m)[\u001B[38;5;124m'\u001B[39m\u001B[38;5;124mpower_sum\u001B[39m\u001B[38;5;124m'\u001B[39m]\u001B[38;5;241m.\u001B[39mapply(\u001B[38;5;28;01mlambda\u001B[39;00m x: x\u001B[38;5;241m.\u001B[39mshift(\u001B[38;5;241m7\u001B[39m \u001B[38;5;241m*\u001B[39m i))\n\u001B[0;32m     96\u001B[0m     \u001B[38;5;66;03m# oof rmse:  261.2 -> 264.3没用\u001B[39;00m\n\u001B[0;32m     97\u001B[0m     \u001B[38;5;66;03m# df[f'power_{i}week_daystd'] = df.groupby('id_encode')['power_std'].apply(lambda x: x.shift(7 * i))\u001B[39;00m\n\u001B[0;32m     98\u001B[0m \n\u001B[0;32m     99\u001B[0m \u001B[38;5;66;03m# # oof rmse:  261.2 -> 268.3没用\u001B[39;00m\n\u001B[0;32m    100\u001B[0m \u001B[38;5;66;03m# for i in range(1, 4):\u001B[39;00m\n\u001B[0;32m    101\u001B[0m \u001B[38;5;66;03m#     df[f'power_{i}week_diff'] = df[f'power_{i}week'] - df[f'power_{i+1}week']\u001B[39;00m\n\u001B[0;32m    103\u001B[0m \u001B[38;5;28;01mfor\u001B[39;00m i \u001B[38;5;129;01min\u001B[39;00m [\u001B[38;5;241m7\u001B[39m, \u001B[38;5;241m14\u001B[39m, \u001B[38;5;241m21\u001B[39m, \u001B[38;5;241m30\u001B[39m]:\n",
      "File \u001B[1;32md:\\python9.2\\lib\\site-packages\\pandas\\core\\frame.py:4094\u001B[0m, in \u001B[0;36mDataFrame.__setitem__\u001B[1;34m(self, key, value)\u001B[0m\n\u001B[0;32m   4091\u001B[0m     \u001B[38;5;28mself\u001B[39m\u001B[38;5;241m.\u001B[39m_setitem_array([key], value)\n\u001B[0;32m   4092\u001B[0m \u001B[38;5;28;01melse\u001B[39;00m:\n\u001B[0;32m   4093\u001B[0m     \u001B[38;5;66;03m# set column\u001B[39;00m\n\u001B[1;32m-> 4094\u001B[0m     \u001B[38;5;28;43mself\u001B[39;49m\u001B[38;5;241;43m.\u001B[39;49m\u001B[43m_set_item\u001B[49m\u001B[43m(\u001B[49m\u001B[43mkey\u001B[49m\u001B[43m,\u001B[49m\u001B[43m \u001B[49m\u001B[43mvalue\u001B[49m\u001B[43m)\u001B[49m\n",
      "File \u001B[1;32md:\\python9.2\\lib\\site-packages\\pandas\\core\\frame.py:4303\u001B[0m, in \u001B[0;36mDataFrame._set_item\u001B[1;34m(self, key, value)\u001B[0m\n\u001B[0;32m   4293\u001B[0m \u001B[38;5;28;01mdef\u001B[39;00m \u001B[38;5;21m_set_item\u001B[39m(\u001B[38;5;28mself\u001B[39m, key, value) \u001B[38;5;241m-\u001B[39m\u001B[38;5;241m>\u001B[39m \u001B[38;5;28;01mNone\u001B[39;00m:\n\u001B[0;32m   4294\u001B[0m     \u001B[38;5;124;03m\"\"\"\u001B[39;00m\n\u001B[0;32m   4295\u001B[0m \u001B[38;5;124;03m    Add series to DataFrame in specified column.\u001B[39;00m\n\u001B[0;32m   4296\u001B[0m \n\u001B[1;32m   (...)\u001B[0m\n\u001B[0;32m   4301\u001B[0m \u001B[38;5;124;03m    ensure homogeneity.\u001B[39;00m\n\u001B[0;32m   4302\u001B[0m \u001B[38;5;124;03m    \"\"\"\u001B[39;00m\n\u001B[1;32m-> 4303\u001B[0m     value, refs \u001B[38;5;241m=\u001B[39m \u001B[38;5;28;43mself\u001B[39;49m\u001B[38;5;241;43m.\u001B[39;49m\u001B[43m_sanitize_column\u001B[49m\u001B[43m(\u001B[49m\u001B[43mvalue\u001B[49m\u001B[43m)\u001B[49m\n\u001B[0;32m   4305\u001B[0m     \u001B[38;5;28;01mif\u001B[39;00m (\n\u001B[0;32m   4306\u001B[0m         key \u001B[38;5;129;01min\u001B[39;00m \u001B[38;5;28mself\u001B[39m\u001B[38;5;241m.\u001B[39mcolumns\n\u001B[0;32m   4307\u001B[0m         \u001B[38;5;129;01mand\u001B[39;00m value\u001B[38;5;241m.\u001B[39mndim \u001B[38;5;241m==\u001B[39m \u001B[38;5;241m1\u001B[39m\n\u001B[0;32m   4308\u001B[0m         \u001B[38;5;129;01mand\u001B[39;00m \u001B[38;5;129;01mnot\u001B[39;00m \u001B[38;5;28misinstance\u001B[39m(value\u001B[38;5;241m.\u001B[39mdtype, ExtensionDtype)\n\u001B[0;32m   4309\u001B[0m     ):\n\u001B[0;32m   4310\u001B[0m         \u001B[38;5;66;03m# broadcast across multiple columns if necessary\u001B[39;00m\n\u001B[0;32m   4311\u001B[0m         \u001B[38;5;28;01mif\u001B[39;00m \u001B[38;5;129;01mnot\u001B[39;00m \u001B[38;5;28mself\u001B[39m\u001B[38;5;241m.\u001B[39mcolumns\u001B[38;5;241m.\u001B[39mis_unique \u001B[38;5;129;01mor\u001B[39;00m \u001B[38;5;28misinstance\u001B[39m(\u001B[38;5;28mself\u001B[39m\u001B[38;5;241m.\u001B[39mcolumns, MultiIndex):\n",
      "File \u001B[1;32md:\\python9.2\\lib\\site-packages\\pandas\\core\\frame.py:5039\u001B[0m, in \u001B[0;36mDataFrame._sanitize_column\u001B[1;34m(self, value)\u001B[0m\n\u001B[0;32m   5037\u001B[0m     \u001B[38;5;28;01mif\u001B[39;00m \u001B[38;5;129;01mnot\u001B[39;00m \u001B[38;5;28misinstance\u001B[39m(value, Series):\n\u001B[0;32m   5038\u001B[0m         value \u001B[38;5;241m=\u001B[39m Series(value)\n\u001B[1;32m-> 5039\u001B[0m     \u001B[38;5;28;01mreturn\u001B[39;00m \u001B[43m_reindex_for_setitem\u001B[49m\u001B[43m(\u001B[49m\u001B[43mvalue\u001B[49m\u001B[43m,\u001B[49m\u001B[43m \u001B[49m\u001B[38;5;28;43mself\u001B[39;49m\u001B[38;5;241;43m.\u001B[39;49m\u001B[43mindex\u001B[49m\u001B[43m)\u001B[49m\n\u001B[0;32m   5041\u001B[0m \u001B[38;5;28;01mif\u001B[39;00m is_list_like(value):\n\u001B[0;32m   5042\u001B[0m     com\u001B[38;5;241m.\u001B[39mrequire_length_match(value, \u001B[38;5;28mself\u001B[39m\u001B[38;5;241m.\u001B[39mindex)\n",
      "File \u001B[1;32md:\\python9.2\\lib\\site-packages\\pandas\\core\\frame.py:12314\u001B[0m, in \u001B[0;36m_reindex_for_setitem\u001B[1;34m(value, index)\u001B[0m\n\u001B[0;32m  12310\u001B[0m     \u001B[38;5;28;01mif\u001B[39;00m \u001B[38;5;129;01mnot\u001B[39;00m value\u001B[38;5;241m.\u001B[39mindex\u001B[38;5;241m.\u001B[39mis_unique:\n\u001B[0;32m  12311\u001B[0m         \u001B[38;5;66;03m# duplicate axis\u001B[39;00m\n\u001B[0;32m  12312\u001B[0m         \u001B[38;5;28;01mraise\u001B[39;00m err\n\u001B[1;32m> 12314\u001B[0m     \u001B[38;5;28;01mraise\u001B[39;00m \u001B[38;5;167;01mTypeError\u001B[39;00m(\n\u001B[0;32m  12315\u001B[0m         \u001B[38;5;124m\"\u001B[39m\u001B[38;5;124mincompatible index of inserted column with frame index\u001B[39m\u001B[38;5;124m\"\u001B[39m\n\u001B[0;32m  12316\u001B[0m     ) \u001B[38;5;28;01mfrom\u001B[39;00m \u001B[38;5;21;01merr\u001B[39;00m\n\u001B[0;32m  12317\u001B[0m \u001B[38;5;28;01mreturn\u001B[39;00m reindexed_value, \u001B[38;5;28;01mNone\u001B[39;00m\n",
      "\u001B[1;31mTypeError\u001B[0m: incompatible index of inserted column with frame index"
     ]
    }
   ],
   "source": [
    "df_his_day, df_power_day, df_power_mean = data_day_group(df_his_all, df_power)\n",
    "df = data_merge(df_stub, df_his_day, df_power_day, df_power_mean, df_city)\n",
    "df = feat_engineering(df)\n",
    "\n",
    "df = df.merge(df_city, on=['h3', 'time'], how='left')\n",
    "# 删除填补的空缺字段\n",
    "df = df_his_day[['id_encode','ds']].merge(df, on=['id_encode','ds'], how='left')\n",
    "df.shape\n",
    "\n",
    "\n",
    "df_train = df[df['ds']<20230415]\n",
    "df_test = df[df['ds']>=20230415]\n",
    "# 删除填补的空缺值数据\n",
    "df_train = df_train[(~df_train['power_sum'].isnull())]\n",
    "# 删除部分20230101空数据\n",
    "df_train = df_train[df_train[['ele_price_mean', 'ser_price_mean']].isnull().sum(axis=1) == 0]\n",
    "# 时间截断\n",
    "df_train = df_train[~df_train['power_1week'].isnull()]\n",
    "# df_train = df_train[df_train['ds']>20220515]\n",
    "\n",
    "# 掉分了\n",
    "# df_h3 = df_train.groupby(['id_encode','h3'])['power_sum'].mean().reset_index().rename(columns={'power_sum':'h3_target_encode'})\n",
    "# df_train = df_train.merge(df_h3, on=['id_encode','h3'], how='left')\n",
    "# df_test = df_test.merge(df_h3, on=['id_encode','h3'], how='left')\n",
    "\n",
    "# df_power_tmp = df_train.groupby(['id_encode']).agg({'power_sum':['mean','std']}).reset_index()\n",
    "# df_power_tmp.columns = ['id_encode', 'power_TE', 'power_std_TE']\n",
    "# df_train = df_train.merge(df_power_tmp, on=['id_encode'], how='left')\n",
    "# df_test = df_test.merge(df_power_tmp, on=['id_encode'], how='left')\n",
    "df_train = df_train.reset_index(drop=True)\n",
    "df_test = df_test.reset_index(drop=True)\n",
    "df_train.shape, df_test.shape\n",
    "# df_train.to_parquet(f'../data/interim/df_train_{oof_score}_A225.7.parquet')"
   ]
  },
  {
   "cell_type": "markdown",
   "metadata": {},
   "source": [
    "## model"
   ]
  },
  {
   "cell_type": "code",
   "execution_count": null,
   "metadata": {},
   "outputs": [],
   "source": [
    "feats = [x for x in df_train.columns if x not in ['ds',  'time', 'month_num', 'year','label','power',\n",
    "                                            'power_sum','power_std','pred','pred_r','quarter','h3',\n",
    "                                            'all_price','折扣','city', 'Holiday','Holiday Length', 'weather',\n",
    "                                            'weather_status']]#  #'Holiday Length',\n",
    "feats\n",
    "len(feats)"
   ]
  },
  {
   "cell_type": "code",
   "execution_count": null,
   "metadata": {},
   "outputs": [],
   "source": []
  },
  {
   "cell_type": "code",
   "execution_count": null,
   "metadata": {},
   "outputs": [],
   "source": [
    "# df_train1 = df_train[df_train['label']>0]\n",
    "# df_train1 = df_train[df_train['is_holiday']==0]\n",
    "# df_train['is_holiday'].value_counts()\n",
    "lgbmodel = LgbRegression(feats)\n",
    "df_train_pred, fold_importance_df, oof_score = lgbmodel.train(df_train, label='label', Stratifiedcol='id_encode')"
   ]
  },
  {
   "cell_type": "code",
   "execution_count": null,
   "metadata": {},
   "outputs": [],
   "source": []
  },
  {
   "cell_type": "code",
   "execution_count": null,
   "metadata": {},
   "outputs": [],
   "source": []
  },
  {
   "cell_type": "code",
   "execution_count": null,
   "metadata": {},
   "outputs": [],
   "source": [
    "# model_all = lgbmodel.train_all(df_train, label='power_sum', \n",
    "#                                 best_iter=4076)"
   ]
  },
  {
   "cell_type": "code",
   "execution_count": null,
   "metadata": {},
   "outputs": [],
   "source": [
    "import datetime\n",
    "from sklearn.metrics import mean_absolute_error, mean_squared_error\n",
    "# # 后处理\n",
    "# df_train_pred['pred_r'] = df_train_pred['pred'].apply(lambda x: 0 if x < 0 else x)\n",
    "# np.sqrt(mean_squared_error(df_train_pred['label'] * (df_train_pred['power'] + 1), \n",
    "#                            df_train_pred['pred'] * (df_train_pred['power'] + 1)))\n",
    "# np.sqrt(mean_squared_error(df_train_pred['power_sum'], df_train_pred['pred_r']))\n",
    "\n",
    "current_time = datetime.datetime.now()\n",
    "current_time_str = current_time.strftime('%Y%m%d_%H%M')\n",
    "save_path = f'../data/interim/oof_{current_time_str}_oofrmse{oof_score}.csv'\n",
    "df_train_pred[['id_encode', 'ds', 'power_sum', 'pred']].to_csv(save_path)\n",
    "save_path"
   ]
  },
  {
   "cell_type": "code",
   "execution_count": null,
   "metadata": {},
   "outputs": [],
   "source": [
    "df_oof_rmse = df_train_pred.groupby('id_encode').apply(lambda x: np.sqrt(mean_squared_error(x['power_sum'], x['pred'])))\n",
    "df_oof_rmse.sort_values(0).tail(10)"
   ]
  },
  {
   "cell_type": "code",
   "execution_count": null,
   "metadata": {},
   "outputs": [],
   "source": [
    "fold_importance_df.head(50)"
   ]
  },
  {
   "cell_type": "code",
   "execution_count": null,
   "metadata": {},
   "outputs": [],
   "source": [
    "cid = 197\n",
    "fig = plt.figure(figsize=(20, 4))\n",
    "df_tmp = df_train_pred[(df_train_pred['id_encode']==cid)]\n",
    "plt.plot(df_tmp['time'], df_tmp['label'],c='b')\n",
    "plt.title(f'id_encode {cid}')\n",
    "plt.plot(df_tmp['time'],df_tmp['pred'],c='r');"
   ]
  },
  {
   "cell_type": "code",
   "execution_count": null,
   "metadata": {},
   "outputs": [],
   "source": [
    "def plot_sub_df(cids, df, pred_flag=0):\n",
    "    col_num = 3\n",
    "    fig, axes = plt.subplots(3, col_num, figsize=(20, 9), sharey=True)\n",
    "    for i,cid in tqdm(enumerate(cids)):\n",
    "        ax = axes[i // col_num, i % col_num]\n",
    "        df_tmp = df[(df['id_encode']==cid)]\n",
    "        ax.plot(df_tmp['time'], df_tmp['power_sum'],c='b')\n",
    "        rmse = int(df_oof_rmse[cid])\n",
    "        ax.set_title(f'id_encode {cid}_rmse{rmse}')\n",
    "        if pred_flag == 1:\n",
    "            ax.plot(df_tmp['time'],df_tmp['pred'],c='r')\n",
    "    plt.tight_layout()\n",
    "cids = np.arange(9) + 40\n",
    "plot_sub_df(cids, df_train_pred, pred_flag=1)"
   ]
  },
  {
   "cell_type": "markdown",
   "metadata": {},
   "source": [
    "## 提交"
   ]
  },
  {
   "cell_type": "code",
   "execution_count": null,
   "metadata": {},
   "outputs": [],
   "source": [
    "# df_test['pred'] = model_all.predict(df_test[feats])\n",
    "# df_sub = df_test[['id_encode','ds','pred']]\n",
    "# df_sub['ds'] = df_sub['ds'].astype(int)\n",
    "# df_sub.columns = ['id_encode','ds','power']\n",
    "\n",
    "# save_path = f'../data/output/oofrmse{oof_score}_allpred.csv'\n",
    "# df_sub.to_csv(save_path,index=False)\n",
    "# print(f'save sub {save_path}')"
   ]
  },
  {
   "cell_type": "code",
   "execution_count": null,
   "metadata": {},
   "outputs": [],
   "source": [
    "df_test = lgbmodel.predict(df_test)\n",
    "\n",
    "df_sub = df_test[['id_encode','ds','pred']]\n",
    "df_sub['ds'] = df_sub['ds'].astype(int)\n",
    "df_sub.columns = ['id_encode','ds','power']\n",
    "\n",
    "save_path = f'../data/output/{current_time_str}_oofrmse{oof_score}.csv'\n",
    "df_sub.to_csv(save_path,index=False)\n",
    "print(f'save sub {save_path}')\n",
    "df_sub"
   ]
  },
  {
   "cell_type": "code",
   "execution_count": null,
   "metadata": {},
   "outputs": [],
   "source": []
  },
  {
   "cell_type": "markdown",
   "metadata": {},
   "source": [
    "* 为什么 power_std相关特征如此有效，能否挖掘更有意义的特征\n",
    "* 几个业务特征为什么有效，如何衍生\n",
    "* 空缺值多的训练数据的处理\n",
    "* power为0可能是哪些原因导致的(目前看f3对其有影响，但不完全相关)\n",
    "* id如何编码合适(全局TE会掉分)"
   ]
  }
 ],
 "metadata": {
  "kernelspec": {
   "display_name": "lx",
   "language": "python",
   "name": "python3"
  },
  "language_info": {
   "codemirror_mode": {
    "name": "ipython",
    "version": 3
   },
   "file_extension": ".py",
   "mimetype": "text/x-python",
   "name": "python",
   "nbconvert_exporter": "python",
   "pygments_lexer": "ipython3",
   "version": "3.9.12"
  },
  "orig_nbformat": 4
 },
 "nbformat": 4,
 "nbformat_minor": 2
}
