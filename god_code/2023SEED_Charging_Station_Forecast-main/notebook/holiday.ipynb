{
 "cells": [
  {
   "cell_type": "code",
   "execution_count": 57,
   "metadata": {},
   "outputs": [
    {
     "name": "stderr",
     "output_type": "stream",
     "text": [
      "/Users/luoxin/miniforge3/envs/lx/lib/python3.9/site-packages/workalendar/asia/china.py:118: UserWarning: Support years 2018-2023 currently, need update every year.\n",
      "  warnings.warn(\n",
      "/Users/luoxin/miniforge3/envs/lx/lib/python3.9/site-packages/workalendar/asia/china.py:118: UserWarning: Support years 2018-2023 currently, need update every year.\n",
      "  warnings.warn(\n"
     ]
    },
    {
     "name": "stdout",
     "output_type": "stream",
     "text": [
      "df_time_all.shape: (186000, 2)\n"
     ]
    }
   ],
   "source": [
    "import pandas as pd\n",
    "import numpy as np\n",
    "\n",
    "from workalendar.asia import China\n",
    "cal = China()\n",
    "holidays_list = []\n",
    "df_holiday = pd.DataFrame()\n",
    "for year in [2022, 2023]:\n",
    "    holidays = cal.holidays(year)\n",
    "    df_tmp = pd.DataFrame(holidays, columns=['time', 'Holiday'])\n",
    "    df_tmp['Holiday Length'] = df_tmp.groupby('Holiday')['time'].transform(lambda x: x.count())\n",
    "    # df_tmp1 = df_tmp[df_tmp['Holiday'] == 'Spring Festival'].reset_index(drop=True).reset_index().rename(columns={'index': 'day_num'})\n",
    "    # df_tmp = df_tmp.merge(df_tmp1[['time','day_num']], on='time', how='left')\n",
    "    df_holiday = pd.concat([df_holiday, df_tmp])\n",
    "df_holiday['time'] = pd.to_datetime(df_holiday['time'])\n",
    "\n",
    "# 时间补全\n",
    "df_time_all = pd.DataFrame()\n",
    "for i in range(500):\n",
    "    df_time = pd.DataFrame()\n",
    "    df_time['time'] = pd.date_range(start='20220415', end='20230421', freq='D')\n",
    "    df_time['id_encode'] = i\n",
    "    df_time_all = pd.concat([df_time_all, df_time])\n",
    "print('df_time_all.shape:', df_time_all.shape)\n",
    "df_time_all = df_time_all.merge(df_holiday, on='time',how='left')\n",
    "# df_time_all['Holiday'] = df_time_all['Holiday'].apply(lambda x: 1 if x is np.nan else 0)\n",
    "df_time_all['Holiday Length'] = df_time_all['Holiday Length'].fillna(0)"
   ]
  },
  {
   "cell_type": "code",
   "execution_count": 60,
   "metadata": {},
   "outputs": [
    {
     "data": {
      "text/plain": [
       "[2]"
      ]
     },
     "execution_count": 60,
     "metadata": {},
     "output_type": "execute_result"
    }
   ],
   "source": []
  },
  {
   "cell_type": "code",
   "execution_count": null,
   "metadata": {},
   "outputs": [],
   "source": [
    "df_holiday"
   ]
  },
  {
   "cell_type": "code",
   "execution_count": 38,
   "metadata": {},
   "outputs": [
    {
     "data": {
      "text/html": [
       "<div>\n",
       "<style scoped>\n",
       "    .dataframe tbody tr th:only-of-type {\n",
       "        vertical-align: middle;\n",
       "    }\n",
       "\n",
       "    .dataframe tbody tr th {\n",
       "        vertical-align: top;\n",
       "    }\n",
       "\n",
       "    .dataframe thead th {\n",
       "        text-align: right;\n",
       "    }\n",
       "</style>\n",
       "<table border=\"1\" class=\"dataframe\">\n",
       "  <thead>\n",
       "    <tr style=\"text-align: right;\">\n",
       "      <th></th>\n",
       "      <th>time</th>\n",
       "      <th>id_encode</th>\n",
       "      <th>Holiday Name</th>\n",
       "      <th>Holiday Length</th>\n",
       "    </tr>\n",
       "  </thead>\n",
       "  <tbody>\n",
       "    <tr>\n",
       "      <th>0</th>\n",
       "      <td>2022-04-15</td>\n",
       "      <td>0</td>\n",
       "      <td>1</td>\n",
       "      <td>NaN</td>\n",
       "    </tr>\n",
       "    <tr>\n",
       "      <th>1</th>\n",
       "      <td>2022-04-16</td>\n",
       "      <td>0</td>\n",
       "      <td>1</td>\n",
       "      <td>NaN</td>\n",
       "    </tr>\n",
       "    <tr>\n",
       "      <th>2</th>\n",
       "      <td>2022-04-17</td>\n",
       "      <td>0</td>\n",
       "      <td>1</td>\n",
       "      <td>NaN</td>\n",
       "    </tr>\n",
       "    <tr>\n",
       "      <th>3</th>\n",
       "      <td>2022-04-18</td>\n",
       "      <td>0</td>\n",
       "      <td>1</td>\n",
       "      <td>NaN</td>\n",
       "    </tr>\n",
       "    <tr>\n",
       "      <th>4</th>\n",
       "      <td>2022-04-19</td>\n",
       "      <td>0</td>\n",
       "      <td>1</td>\n",
       "      <td>NaN</td>\n",
       "    </tr>\n",
       "    <tr>\n",
       "      <th>...</th>\n",
       "      <td>...</td>\n",
       "      <td>...</td>\n",
       "      <td>...</td>\n",
       "      <td>...</td>\n",
       "    </tr>\n",
       "    <tr>\n",
       "      <th>185995</th>\n",
       "      <td>2023-04-17</td>\n",
       "      <td>499</td>\n",
       "      <td>1</td>\n",
       "      <td>NaN</td>\n",
       "    </tr>\n",
       "    <tr>\n",
       "      <th>185996</th>\n",
       "      <td>2023-04-18</td>\n",
       "      <td>499</td>\n",
       "      <td>1</td>\n",
       "      <td>NaN</td>\n",
       "    </tr>\n",
       "    <tr>\n",
       "      <th>185997</th>\n",
       "      <td>2023-04-19</td>\n",
       "      <td>499</td>\n",
       "      <td>1</td>\n",
       "      <td>NaN</td>\n",
       "    </tr>\n",
       "    <tr>\n",
       "      <th>185998</th>\n",
       "      <td>2023-04-20</td>\n",
       "      <td>499</td>\n",
       "      <td>1</td>\n",
       "      <td>NaN</td>\n",
       "    </tr>\n",
       "    <tr>\n",
       "      <th>185999</th>\n",
       "      <td>2023-04-21</td>\n",
       "      <td>499</td>\n",
       "      <td>1</td>\n",
       "      <td>NaN</td>\n",
       "    </tr>\n",
       "  </tbody>\n",
       "</table>\n",
       "<p>186000 rows × 4 columns</p>\n",
       "</div>"
      ],
      "text/plain": [
       "             time  id_encode  Holiday Name  Holiday Length\n",
       "0      2022-04-15          0             1             NaN\n",
       "1      2022-04-16          0             1             NaN\n",
       "2      2022-04-17          0             1             NaN\n",
       "3      2022-04-18          0             1             NaN\n",
       "4      2022-04-19          0             1             NaN\n",
       "...           ...        ...           ...             ...\n",
       "185995 2023-04-17        499             1             NaN\n",
       "185996 2023-04-18        499             1             NaN\n",
       "185997 2023-04-19        499             1             NaN\n",
       "185998 2023-04-20        499             1             NaN\n",
       "185999 2023-04-21        499             1             NaN\n",
       "\n",
       "[186000 rows x 4 columns]"
      ]
     },
     "execution_count": 38,
     "metadata": {},
     "output_type": "execute_result"
    }
   ],
   "source": [
    "df_time_all#['Holiday'].value_counts()"
   ]
  },
  {
   "cell_type": "code",
   "execution_count": null,
   "metadata": {},
   "outputs": [],
   "source": []
  }
 ],
 "metadata": {
  "kernelspec": {
   "display_name": "lx",
   "language": "python",
   "name": "python3"
  },
  "language_info": {
   "codemirror_mode": {
    "name": "ipython",
    "version": 3
   },
   "file_extension": ".py",
   "mimetype": "text/x-python",
   "name": "python",
   "nbconvert_exporter": "python",
   "pygments_lexer": "ipython3",
   "version": "3.9.12"
  },
  "orig_nbformat": 4
 },
 "nbformat": 4,
 "nbformat_minor": 2
}
