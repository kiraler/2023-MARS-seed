{
 "cells": [
  {
   "cell_type": "code",
   "execution_count": 15,
   "id": "initial_id",
   "metadata": {
    "collapsed": true,
    "ExecuteTime": {
     "end_time": "2023-10-21T11:51:25.359407400Z",
     "start_time": "2023-10-21T11:51:25.345388500Z"
    }
   },
   "outputs": [],
   "source": [
    "import pandas as pd"
   ]
  },
  {
   "cell_type": "code",
   "execution_count": 22,
   "outputs": [
    {
     "data": {
      "text/plain": "         id_encode  hour  ele_price  ser_price  after_ser_price  total_price  \\\n0                0   0.0       0.64       0.95             0.31         1.59   \n1                0   1.0       0.64       0.95             0.31         1.59   \n2                0   2.0       0.64       0.95             0.31         1.59   \n3                0   3.0       0.64       0.95             0.31         1.59   \n4                0   4.0       0.64       0.95             0.31         1.59   \n...            ...   ...        ...        ...              ...          ...   \n3566379        499  19.0       0.00       0.51             0.51         0.51   \n3566380        499  20.0       0.00       0.51             0.51         0.51   \n3566381        499  21.0       0.00       0.51             0.51         0.51   \n3566382        499  22.0       0.00       0.51             0.51         0.51   \n3566383        499  23.0       0.00       0.51             0.51         0.51   \n\n          f1      f2   f3        ds  \n0        0.0     0.0  1.0  20220415  \n1        0.0     0.0  1.0  20220415  \n2        0.0     0.0  1.0  20220415  \n3        0.0     0.0  1.0  20220415  \n4        0.0     0.0  1.0  20220415  \n...      ...     ...  ...       ...  \n3566379  3.0  1240.0  NaN  20230414  \n3566380  3.0  1240.0  NaN  20230414  \n3566381  3.0  1240.0  NaN  20230414  \n3566382  3.0  1240.0  NaN  20230414  \n3566383  3.0  1240.0  NaN  20230414  \n\n[3566384 rows x 10 columns]",
      "text/html": "<div>\n<style scoped>\n    .dataframe tbody tr th:only-of-type {\n        vertical-align: middle;\n    }\n\n    .dataframe tbody tr th {\n        vertical-align: top;\n    }\n\n    .dataframe thead th {\n        text-align: right;\n    }\n</style>\n<table border=\"1\" class=\"dataframe\">\n  <thead>\n    <tr style=\"text-align: right;\">\n      <th></th>\n      <th>id_encode</th>\n      <th>hour</th>\n      <th>ele_price</th>\n      <th>ser_price</th>\n      <th>after_ser_price</th>\n      <th>total_price</th>\n      <th>f1</th>\n      <th>f2</th>\n      <th>f3</th>\n      <th>ds</th>\n    </tr>\n  </thead>\n  <tbody>\n    <tr>\n      <th>0</th>\n      <td>0</td>\n      <td>0.0</td>\n      <td>0.64</td>\n      <td>0.95</td>\n      <td>0.31</td>\n      <td>1.59</td>\n      <td>0.0</td>\n      <td>0.0</td>\n      <td>1.0</td>\n      <td>20220415</td>\n    </tr>\n    <tr>\n      <th>1</th>\n      <td>0</td>\n      <td>1.0</td>\n      <td>0.64</td>\n      <td>0.95</td>\n      <td>0.31</td>\n      <td>1.59</td>\n      <td>0.0</td>\n      <td>0.0</td>\n      <td>1.0</td>\n      <td>20220415</td>\n    </tr>\n    <tr>\n      <th>2</th>\n      <td>0</td>\n      <td>2.0</td>\n      <td>0.64</td>\n      <td>0.95</td>\n      <td>0.31</td>\n      <td>1.59</td>\n      <td>0.0</td>\n      <td>0.0</td>\n      <td>1.0</td>\n      <td>20220415</td>\n    </tr>\n    <tr>\n      <th>3</th>\n      <td>0</td>\n      <td>3.0</td>\n      <td>0.64</td>\n      <td>0.95</td>\n      <td>0.31</td>\n      <td>1.59</td>\n      <td>0.0</td>\n      <td>0.0</td>\n      <td>1.0</td>\n      <td>20220415</td>\n    </tr>\n    <tr>\n      <th>4</th>\n      <td>0</td>\n      <td>4.0</td>\n      <td>0.64</td>\n      <td>0.95</td>\n      <td>0.31</td>\n      <td>1.59</td>\n      <td>0.0</td>\n      <td>0.0</td>\n      <td>1.0</td>\n      <td>20220415</td>\n    </tr>\n    <tr>\n      <th>...</th>\n      <td>...</td>\n      <td>...</td>\n      <td>...</td>\n      <td>...</td>\n      <td>...</td>\n      <td>...</td>\n      <td>...</td>\n      <td>...</td>\n      <td>...</td>\n      <td>...</td>\n    </tr>\n    <tr>\n      <th>3566379</th>\n      <td>499</td>\n      <td>19.0</td>\n      <td>0.00</td>\n      <td>0.51</td>\n      <td>0.51</td>\n      <td>0.51</td>\n      <td>3.0</td>\n      <td>1240.0</td>\n      <td>NaN</td>\n      <td>20230414</td>\n    </tr>\n    <tr>\n      <th>3566380</th>\n      <td>499</td>\n      <td>20.0</td>\n      <td>0.00</td>\n      <td>0.51</td>\n      <td>0.51</td>\n      <td>0.51</td>\n      <td>3.0</td>\n      <td>1240.0</td>\n      <td>NaN</td>\n      <td>20230414</td>\n    </tr>\n    <tr>\n      <th>3566381</th>\n      <td>499</td>\n      <td>21.0</td>\n      <td>0.00</td>\n      <td>0.51</td>\n      <td>0.51</td>\n      <td>0.51</td>\n      <td>3.0</td>\n      <td>1240.0</td>\n      <td>NaN</td>\n      <td>20230414</td>\n    </tr>\n    <tr>\n      <th>3566382</th>\n      <td>499</td>\n      <td>22.0</td>\n      <td>0.00</td>\n      <td>0.51</td>\n      <td>0.51</td>\n      <td>0.51</td>\n      <td>3.0</td>\n      <td>1240.0</td>\n      <td>NaN</td>\n      <td>20230414</td>\n    </tr>\n    <tr>\n      <th>3566383</th>\n      <td>499</td>\n      <td>23.0</td>\n      <td>0.00</td>\n      <td>0.51</td>\n      <td>0.51</td>\n      <td>0.51</td>\n      <td>3.0</td>\n      <td>1240.0</td>\n      <td>NaN</td>\n      <td>20230414</td>\n    </tr>\n  </tbody>\n</table>\n<p>3566384 rows × 10 columns</p>\n</div>"
     },
     "execution_count": 22,
     "metadata": {},
     "output_type": "execute_result"
    }
   ],
   "source": [
    "## power_forecast_history.csv 为站点运营数据\n",
    "pd.read_csv('初赛1008/训练集/power_forecast_history.csv')"
   ],
   "metadata": {
    "collapsed": false,
    "ExecuteTime": {
     "end_time": "2023-10-21T11:56:17.115383700Z",
     "start_time": "2023-10-21T11:56:15.643102200Z"
    }
   },
   "id": "407ea115faea24ac"
  },
  {
   "cell_type": "markdown",
   "source": [],
   "metadata": {
    "collapsed": false
   },
   "id": "ec8c7b962c93cbdf"
  },
  {
   "cell_type": "code",
   "execution_count": 24,
   "outputs": [
    {
     "data": {
      "text/plain": "         id_encode  hour     power        ds\n0                0   0.0    0.0000  20220415\n1                0   1.0    0.0000  20220415\n2                0   2.0    0.0000  20220415\n3                0   3.0    0.0000  20220415\n4                0   4.0    0.0000  20220415\n...            ...   ...       ...       ...\n3566379        499  19.0  215.6491  20230414\n3566380        499  20.0   57.6127  20230414\n3566381        499  21.0    0.0000  20230414\n3566382        499  22.0    0.0000  20230414\n3566383        499  23.0    0.0000  20230414\n\n[3566384 rows x 4 columns]",
      "text/html": "<div>\n<style scoped>\n    .dataframe tbody tr th:only-of-type {\n        vertical-align: middle;\n    }\n\n    .dataframe tbody tr th {\n        vertical-align: top;\n    }\n\n    .dataframe thead th {\n        text-align: right;\n    }\n</style>\n<table border=\"1\" class=\"dataframe\">\n  <thead>\n    <tr style=\"text-align: right;\">\n      <th></th>\n      <th>id_encode</th>\n      <th>hour</th>\n      <th>power</th>\n      <th>ds</th>\n    </tr>\n  </thead>\n  <tbody>\n    <tr>\n      <th>0</th>\n      <td>0</td>\n      <td>0.0</td>\n      <td>0.0000</td>\n      <td>20220415</td>\n    </tr>\n    <tr>\n      <th>1</th>\n      <td>0</td>\n      <td>1.0</td>\n      <td>0.0000</td>\n      <td>20220415</td>\n    </tr>\n    <tr>\n      <th>2</th>\n      <td>0</td>\n      <td>2.0</td>\n      <td>0.0000</td>\n      <td>20220415</td>\n    </tr>\n    <tr>\n      <th>3</th>\n      <td>0</td>\n      <td>3.0</td>\n      <td>0.0000</td>\n      <td>20220415</td>\n    </tr>\n    <tr>\n      <th>4</th>\n      <td>0</td>\n      <td>4.0</td>\n      <td>0.0000</td>\n      <td>20220415</td>\n    </tr>\n    <tr>\n      <th>...</th>\n      <td>...</td>\n      <td>...</td>\n      <td>...</td>\n      <td>...</td>\n    </tr>\n    <tr>\n      <th>3566379</th>\n      <td>499</td>\n      <td>19.0</td>\n      <td>215.6491</td>\n      <td>20230414</td>\n    </tr>\n    <tr>\n      <th>3566380</th>\n      <td>499</td>\n      <td>20.0</td>\n      <td>57.6127</td>\n      <td>20230414</td>\n    </tr>\n    <tr>\n      <th>3566381</th>\n      <td>499</td>\n      <td>21.0</td>\n      <td>0.0000</td>\n      <td>20230414</td>\n    </tr>\n    <tr>\n      <th>3566382</th>\n      <td>499</td>\n      <td>22.0</td>\n      <td>0.0000</td>\n      <td>20230414</td>\n    </tr>\n    <tr>\n      <th>3566383</th>\n      <td>499</td>\n      <td>23.0</td>\n      <td>0.0000</td>\n      <td>20230414</td>\n    </tr>\n  </tbody>\n</table>\n<p>3566384 rows × 4 columns</p>\n</div>"
     },
     "execution_count": 24,
     "metadata": {},
     "output_type": "execute_result"
    }
   ],
   "source": [
    "## power.csv为站点充电量数据\n",
    "pd.read_csv('初赛1008/训练集/power.csv')"
   ],
   "metadata": {
    "collapsed": false,
    "ExecuteTime": {
     "end_time": "2023-10-21T11:56:24.229672800Z",
     "start_time": "2023-10-21T11:56:23.668133900Z"
    }
   },
   "id": "7e3e34fc648287a5"
  },
  {
   "cell_type": "code",
   "execution_count": 25,
   "outputs": [
    {
     "data": {
      "text/plain": "     id_encode  parking_free flag               h3  ac_equipment_kw  \\\n0            0           1.0    A  85309ea7fffffff              0.0   \n1            1           2.0    B  8530916bfffffff             14.0   \n2            2           1.0    A  853086a3fffffff              0.0   \n3            3           1.0    B  85309cb3fffffff              0.0   \n4            4           1.0    A  85308607fffffff              0.0   \n..         ...           ...  ...              ...              ...   \n495        495           0.0    A  85309c4ffffffff             14.0   \n496        496           0.0    A  85309897fffffff              0.0   \n497        497           2.0    A  85309c6ffffffff              0.0   \n498        498           2.0    B  8530916bfffffff             14.0   \n499        499           1.0    A  85309ca3fffffff              0.0   \n\n     dc_equipment_kw  \n0             1440.0  \n1               60.0  \n2              720.0  \n3               60.0  \n4              720.0  \n..               ...  \n495             80.0  \n496            720.0  \n497            720.0  \n498             60.0  \n499            540.0  \n\n[500 rows x 6 columns]",
      "text/html": "<div>\n<style scoped>\n    .dataframe tbody tr th:only-of-type {\n        vertical-align: middle;\n    }\n\n    .dataframe tbody tr th {\n        vertical-align: top;\n    }\n\n    .dataframe thead th {\n        text-align: right;\n    }\n</style>\n<table border=\"1\" class=\"dataframe\">\n  <thead>\n    <tr style=\"text-align: right;\">\n      <th></th>\n      <th>id_encode</th>\n      <th>parking_free</th>\n      <th>flag</th>\n      <th>h3</th>\n      <th>ac_equipment_kw</th>\n      <th>dc_equipment_kw</th>\n    </tr>\n  </thead>\n  <tbody>\n    <tr>\n      <th>0</th>\n      <td>0</td>\n      <td>1.0</td>\n      <td>A</td>\n      <td>85309ea7fffffff</td>\n      <td>0.0</td>\n      <td>1440.0</td>\n    </tr>\n    <tr>\n      <th>1</th>\n      <td>1</td>\n      <td>2.0</td>\n      <td>B</td>\n      <td>8530916bfffffff</td>\n      <td>14.0</td>\n      <td>60.0</td>\n    </tr>\n    <tr>\n      <th>2</th>\n      <td>2</td>\n      <td>1.0</td>\n      <td>A</td>\n      <td>853086a3fffffff</td>\n      <td>0.0</td>\n      <td>720.0</td>\n    </tr>\n    <tr>\n      <th>3</th>\n      <td>3</td>\n      <td>1.0</td>\n      <td>B</td>\n      <td>85309cb3fffffff</td>\n      <td>0.0</td>\n      <td>60.0</td>\n    </tr>\n    <tr>\n      <th>4</th>\n      <td>4</td>\n      <td>1.0</td>\n      <td>A</td>\n      <td>85308607fffffff</td>\n      <td>0.0</td>\n      <td>720.0</td>\n    </tr>\n    <tr>\n      <th>...</th>\n      <td>...</td>\n      <td>...</td>\n      <td>...</td>\n      <td>...</td>\n      <td>...</td>\n      <td>...</td>\n    </tr>\n    <tr>\n      <th>495</th>\n      <td>495</td>\n      <td>0.0</td>\n      <td>A</td>\n      <td>85309c4ffffffff</td>\n      <td>14.0</td>\n      <td>80.0</td>\n    </tr>\n    <tr>\n      <th>496</th>\n      <td>496</td>\n      <td>0.0</td>\n      <td>A</td>\n      <td>85309897fffffff</td>\n      <td>0.0</td>\n      <td>720.0</td>\n    </tr>\n    <tr>\n      <th>497</th>\n      <td>497</td>\n      <td>2.0</td>\n      <td>A</td>\n      <td>85309c6ffffffff</td>\n      <td>0.0</td>\n      <td>720.0</td>\n    </tr>\n    <tr>\n      <th>498</th>\n      <td>498</td>\n      <td>2.0</td>\n      <td>B</td>\n      <td>8530916bfffffff</td>\n      <td>14.0</td>\n      <td>60.0</td>\n    </tr>\n    <tr>\n      <th>499</th>\n      <td>499</td>\n      <td>1.0</td>\n      <td>A</td>\n      <td>85309ca3fffffff</td>\n      <td>0.0</td>\n      <td>540.0</td>\n    </tr>\n  </tbody>\n</table>\n<p>500 rows × 6 columns</p>\n</div>"
     },
     "execution_count": 25,
     "metadata": {},
     "output_type": "execute_result"
    }
   ],
   "source": [
    "# stub_info.csv为站点静态数据\n",
    "pd.read_csv('初赛1008/训练集/stub_info.csv')"
   ],
   "metadata": {
    "collapsed": false,
    "ExecuteTime": {
     "end_time": "2023-10-21T11:56:37.004992800Z",
     "start_time": "2023-10-21T11:56:36.955093800Z"
    }
   },
   "id": "15104cb5ac55880d"
  },
  {
   "cell_type": "code",
   "execution_count": null,
   "outputs": [],
   "source": [],
   "metadata": {
    "collapsed": false
   },
   "id": "9116c26a970ccf87"
  }
 ],
 "metadata": {
  "kernelspec": {
   "display_name": "Python 3",
   "language": "python",
   "name": "python3"
  },
  "language_info": {
   "codemirror_mode": {
    "name": "ipython",
    "version": 2
   },
   "file_extension": ".py",
   "mimetype": "text/x-python",
   "name": "python",
   "nbconvert_exporter": "python",
   "pygments_lexer": "ipython2",
   "version": "2.7.6"
  }
 },
 "nbformat": 4,
 "nbformat_minor": 5
}
