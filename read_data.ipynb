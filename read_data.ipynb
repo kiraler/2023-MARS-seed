{
 "cells": [
  {
   "cell_type": "code",
   "execution_count": 6,
   "id": "initial_id",
   "metadata": {
    "collapsed": true,
    "ExecuteTime": {
     "end_time": "2023-10-21T11:51:25.359407400Z",
     "start_time": "2023-10-21T11:51:25.345388500Z"
    }
   },
   "outputs": [],
   "source": [
    "import pandas as pd\n",
    "import matplotlib.pyplot as plt"
   ]
  },
  {
   "cell_type": "code",
   "execution_count": 13,
   "outputs": [
    {
     "data": {
      "text/plain": "   id_encode  hour  ele_price  ser_price  after_ser_price  total_price   f1  \\\n0          0   0.0       0.64       0.95             0.31         1.59  0.0   \n1          0   1.0       0.64       0.95             0.31         1.59  0.0   \n2          0   2.0       0.64       0.95             0.31         1.59  0.0   \n3          0   3.0       0.64       0.95             0.31         1.59  0.0   \n4          0   4.0       0.64       0.95             0.31         1.59  0.0   \n\n    f2   f3        ds  \n0  0.0  1.0  20220415  \n1  0.0  1.0  20220415  \n2  0.0  1.0  20220415  \n3  0.0  1.0  20220415  \n4  0.0  1.0  20220415  ",
      "text/html": "<div>\n<style scoped>\n    .dataframe tbody tr th:only-of-type {\n        vertical-align: middle;\n    }\n\n    .dataframe tbody tr th {\n        vertical-align: top;\n    }\n\n    .dataframe thead th {\n        text-align: right;\n    }\n</style>\n<table border=\"1\" class=\"dataframe\">\n  <thead>\n    <tr style=\"text-align: right;\">\n      <th></th>\n      <th>id_encode</th>\n      <th>hour</th>\n      <th>ele_price</th>\n      <th>ser_price</th>\n      <th>after_ser_price</th>\n      <th>total_price</th>\n      <th>f1</th>\n      <th>f2</th>\n      <th>f3</th>\n      <th>ds</th>\n    </tr>\n  </thead>\n  <tbody>\n    <tr>\n      <th>0</th>\n      <td>0</td>\n      <td>0.0</td>\n      <td>0.64</td>\n      <td>0.95</td>\n      <td>0.31</td>\n      <td>1.59</td>\n      <td>0.0</td>\n      <td>0.0</td>\n      <td>1.0</td>\n      <td>20220415</td>\n    </tr>\n    <tr>\n      <th>1</th>\n      <td>0</td>\n      <td>1.0</td>\n      <td>0.64</td>\n      <td>0.95</td>\n      <td>0.31</td>\n      <td>1.59</td>\n      <td>0.0</td>\n      <td>0.0</td>\n      <td>1.0</td>\n      <td>20220415</td>\n    </tr>\n    <tr>\n      <th>2</th>\n      <td>0</td>\n      <td>2.0</td>\n      <td>0.64</td>\n      <td>0.95</td>\n      <td>0.31</td>\n      <td>1.59</td>\n      <td>0.0</td>\n      <td>0.0</td>\n      <td>1.0</td>\n      <td>20220415</td>\n    </tr>\n    <tr>\n      <th>3</th>\n      <td>0</td>\n      <td>3.0</td>\n      <td>0.64</td>\n      <td>0.95</td>\n      <td>0.31</td>\n      <td>1.59</td>\n      <td>0.0</td>\n      <td>0.0</td>\n      <td>1.0</td>\n      <td>20220415</td>\n    </tr>\n    <tr>\n      <th>4</th>\n      <td>0</td>\n      <td>4.0</td>\n      <td>0.64</td>\n      <td>0.95</td>\n      <td>0.31</td>\n      <td>1.59</td>\n      <td>0.0</td>\n      <td>0.0</td>\n      <td>1.0</td>\n      <td>20220415</td>\n    </tr>\n  </tbody>\n</table>\n</div>"
     },
     "execution_count": 13,
     "metadata": {},
     "output_type": "execute_result"
    }
   ],
   "source": [
    "df_power = pd.read_csv('初赛1008/训练集/power.csv')\n",
    "df_his = pd.read_csv('初赛1008/训练集/power_forecast_history.csv')\n",
    "df_stub = pd.read_csv('初赛1008/训练集/stub_info.csv')\n",
    "\n",
    "df_test_his = pd.read_csv('初赛1008/测试集/power_forecast_history.csv')\n",
    "df_test_stub = pd.read_csv('初赛1008/测试集/stub_info.csv')\n",
    "df_stub.equals(df_test_stub)\n",
    "\n",
    "df_his_all = pd.concat([df_his, df_test_his]).reset_index(drop=True)\n",
    "df_his_all.head()\n"
   ],
   "metadata": {
    "collapsed": false,
    "ExecuteTime": {
     "end_time": "2023-10-21T11:56:17.115383700Z",
     "start_time": "2023-10-21T11:56:15.643102200Z"
    }
   },
   "id": "407ea115faea24ac"
  },
  {
   "cell_type": "code",
   "execution_count": 14,
   "outputs": [
    {
     "data": {
      "text/plain": "                    hour  ele_price  ser_price  after_ser_price  total_price  \\\nid_encode ds                                                                   \n0         20220415    24          1          1                1            1   \n          20220416    24          1          1                1            1   \n          20220417    24          1          1                1            1   \n          20220418    24          1          1                1            1   \n          20220419    24          1          1                1            1   \n...                  ...        ...        ...              ...          ...   \n499       20230410    24          1          1                1            1   \n          20230411    24          1          1                1            1   \n          20230412    24          1          1                1            1   \n          20230413    24          1          1                1            1   \n          20230414    24          1          1                1            1   \n\n                    f1  f2  f3  \nid_encode ds                    \n0         20220415   1   1   1  \n          20220416   1   1   1  \n          20220417   1   1   1  \n          20220418   1   1   1  \n          20220419   1   1   1  \n...                 ..  ..  ..  \n499       20230410   1   1   0  \n          20230411   1   1   0  \n          20230412   1   1   0  \n          20230413   1   1   0  \n          20230414   1   1   0  \n\n[149044 rows x 8 columns]",
      "text/html": "<div>\n<style scoped>\n    .dataframe tbody tr th:only-of-type {\n        vertical-align: middle;\n    }\n\n    .dataframe tbody tr th {\n        vertical-align: top;\n    }\n\n    .dataframe thead th {\n        text-align: right;\n    }\n</style>\n<table border=\"1\" class=\"dataframe\">\n  <thead>\n    <tr style=\"text-align: right;\">\n      <th></th>\n      <th></th>\n      <th>hour</th>\n      <th>ele_price</th>\n      <th>ser_price</th>\n      <th>after_ser_price</th>\n      <th>total_price</th>\n      <th>f1</th>\n      <th>f2</th>\n      <th>f3</th>\n    </tr>\n    <tr>\n      <th>id_encode</th>\n      <th>ds</th>\n      <th></th>\n      <th></th>\n      <th></th>\n      <th></th>\n      <th></th>\n      <th></th>\n      <th></th>\n      <th></th>\n    </tr>\n  </thead>\n  <tbody>\n    <tr>\n      <th rowspan=\"5\" valign=\"top\">0</th>\n      <th>20220415</th>\n      <td>24</td>\n      <td>1</td>\n      <td>1</td>\n      <td>1</td>\n      <td>1</td>\n      <td>1</td>\n      <td>1</td>\n      <td>1</td>\n    </tr>\n    <tr>\n      <th>20220416</th>\n      <td>24</td>\n      <td>1</td>\n      <td>1</td>\n      <td>1</td>\n      <td>1</td>\n      <td>1</td>\n      <td>1</td>\n      <td>1</td>\n    </tr>\n    <tr>\n      <th>20220417</th>\n      <td>24</td>\n      <td>1</td>\n      <td>1</td>\n      <td>1</td>\n      <td>1</td>\n      <td>1</td>\n      <td>1</td>\n      <td>1</td>\n    </tr>\n    <tr>\n      <th>20220418</th>\n      <td>24</td>\n      <td>1</td>\n      <td>1</td>\n      <td>1</td>\n      <td>1</td>\n      <td>1</td>\n      <td>1</td>\n      <td>1</td>\n    </tr>\n    <tr>\n      <th>20220419</th>\n      <td>24</td>\n      <td>1</td>\n      <td>1</td>\n      <td>1</td>\n      <td>1</td>\n      <td>1</td>\n      <td>1</td>\n      <td>1</td>\n    </tr>\n    <tr>\n      <th>...</th>\n      <th>...</th>\n      <td>...</td>\n      <td>...</td>\n      <td>...</td>\n      <td>...</td>\n      <td>...</td>\n      <td>...</td>\n      <td>...</td>\n      <td>...</td>\n    </tr>\n    <tr>\n      <th rowspan=\"5\" valign=\"top\">499</th>\n      <th>20230410</th>\n      <td>24</td>\n      <td>1</td>\n      <td>1</td>\n      <td>1</td>\n      <td>1</td>\n      <td>1</td>\n      <td>1</td>\n      <td>0</td>\n    </tr>\n    <tr>\n      <th>20230411</th>\n      <td>24</td>\n      <td>1</td>\n      <td>1</td>\n      <td>1</td>\n      <td>1</td>\n      <td>1</td>\n      <td>1</td>\n      <td>0</td>\n    </tr>\n    <tr>\n      <th>20230412</th>\n      <td>24</td>\n      <td>1</td>\n      <td>1</td>\n      <td>1</td>\n      <td>1</td>\n      <td>1</td>\n      <td>1</td>\n      <td>0</td>\n    </tr>\n    <tr>\n      <th>20230413</th>\n      <td>24</td>\n      <td>1</td>\n      <td>1</td>\n      <td>1</td>\n      <td>1</td>\n      <td>1</td>\n      <td>1</td>\n      <td>0</td>\n    </tr>\n    <tr>\n      <th>20230414</th>\n      <td>24</td>\n      <td>1</td>\n      <td>1</td>\n      <td>1</td>\n      <td>1</td>\n      <td>1</td>\n      <td>1</td>\n      <td>0</td>\n    </tr>\n  </tbody>\n</table>\n<p>149044 rows × 8 columns</p>\n</div>"
     },
     "execution_count": 14,
     "metadata": {},
     "output_type": "execute_result"
    }
   ],
   "source": [
    "df_his.groupby(['id_encode','ds']).agg('nunique')"
   ],
   "metadata": {
    "collapsed": false
   }
  }
 ],
 "metadata": {
  "kernelspec": {
   "display_name": "Python 3",
   "language": "python",
   "name": "python3"
  },
  "language_info": {
   "codemirror_mode": {
    "name": "ipython",
    "version": 2
   },
   "file_extension": ".py",
   "mimetype": "text/x-python",
   "name": "python",
   "nbconvert_exporter": "python",
   "pygments_lexer": "ipython2",
   "version": "2.7.6"
  }
 },
 "nbformat": 4,
 "nbformat_minor": 5
}
